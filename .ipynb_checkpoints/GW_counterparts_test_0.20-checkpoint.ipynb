{
 "cells": [
  {
   "cell_type": "markdown",
   "id": "a929cde6",
   "metadata": {
    "id": "a929cde6"
   },
   "source": [
    "# GRB simulation"
   ]
  },
  {
   "cell_type": "markdown",
   "id": "146e638e",
   "metadata": {
    "id": "146e638e"
   },
   "source": [
    "The aim of this notebook is to simulate a GRB starting form a fits file and to determine the significance of the simulation. This is an estention of GRB.ipynb where just the flux form one slice was considered.\n",
    "\n",
    "In the current version of the notebook the aim is to simulate a GW counterpart. This is a preliminary version that will be modified in the future.  The point f these kind of study is to detect the source whith a series of pointings that try to cover, as fast as possible, the GW error box. \n",
    "\n",
    "This notebook simulates the source and computes its significance assuming that we know the source position. This can be a nice exercize to become familiar with gammapy, but the correct code must be able to scan the observed region and look for an 'hot-spot', which will than be analysed"
   ]
  },
  {
   "cell_type": "markdown",
   "id": "7ef76910",
   "metadata": {
    "id": "7ef76910"
   },
   "source": [
    "# Settings and imports"
   ]
  },
  {
   "cell_type": "code",
   "execution_count": 1,
   "id": "60ceeb16",
   "metadata": {
    "executionInfo": {
     "elapsed": 2174,
     "status": "ok",
     "timestamp": 1657524653452,
     "user": {
      "displayName": "Irene Burelli",
      "userId": "08034705059639316508"
     },
     "user_tz": -120
    },
    "id": "60ceeb16"
   },
   "outputs": [],
   "source": [
    "import numpy as np\n",
    "import matplotlib.pyplot as plt\n",
    "from regions import CircleSkyRegion\n",
    "import astropy.units as u\n",
    "from astropy.io import fits\n",
    "from astropy.table import Table\n",
    "from astropy.coordinates import SkyCoord, Angle \n",
    "from astropy.time import Time\n",
    "from astropy.wcs import WCS\n",
    "import pandas as pd"
   ]
  },
  {
   "cell_type": "code",
   "execution_count": 2,
   "id": "bb406341",
   "metadata": {
    "colab": {
     "base_uri": "https://localhost:8080/",
     "height": 398
    },
    "executionInfo": {
     "elapsed": 377,
     "status": "error",
     "timestamp": 1657524658173,
     "user": {
      "displayName": "Irene Burelli",
      "userId": "08034705059639316508"
     },
     "user_tz": -120
    },
    "id": "bb406341",
    "outputId": "d6ffce66-ced2-4185-c522-9cd0b3c0f3dd"
   },
   "outputs": [],
   "source": [
    "from gammapy.maps import MapAxis, RegionGeom, WcsGeom\n",
    "from gammapy.datasets import Datasets,  MapDataset, MapDatasetEventSampler\n",
    "from gammapy.modeling import Fit\n",
    "from gammapy.modeling.models import (TemplateSpectralModel,\n",
    "                                     SkyModel,\n",
    "                                     PointSpatialModel,\n",
    "                                     FoVBackgroundModel,\n",
    "                                     Models,\n",
    "                                     GaussianSpatialModel,\n",
    "                                     PowerLawSpectralModel)\n",
    "from gammapy.estimators import TSMapEstimator\n",
    "from gammapy.estimators.utils import find_peaks\n",
    "from gammapy.irf import load_cta_irfs\n",
    "from gammapy.makers import ReflectedRegionsBackgroundMaker, MapDatasetMaker, SafeMaskMaker\n",
    "import warnings\n",
    "with warnings.catch_warnings():\n",
    "    from gammapy.data import Observation\n",
    "from gammapy.maps import MapAxis, RegionNDMap, Map\n",
    "\n",
    "#from gammapy.utils.random import get_random_state\n",
    "#from gammapy.stats import WStatCountsStatistic\n",
    "#from gammapy.estimators import FluxPoints"
   ]
  },
  {
   "cell_type": "code",
   "execution_count": 3,
   "id": "dc441b5e",
   "metadata": {
    "id": "dc441b5e",
    "outputId": "e093f950-be5f-471f-f3a0-b36f924b443a",
    "scrolled": false
   },
   "outputs": [
    {
     "name": "stdout",
     "output_type": "stream",
     "text": [
      "env: CALDB=/home/dell/caldb/prod5-v0.1/bcf\n"
     ]
    }
   ],
   "source": [
    "%env CALDB=/home/dell/caldb/prod5-v0.1/bcf"
   ]
  },
  {
   "cell_type": "code",
   "execution_count": 4,
   "id": "8d5a48bc",
   "metadata": {
    "id": "8d5a48bc"
   },
   "outputs": [],
   "source": [
    "run='0004'\n",
    "ID='000390'\n",
    "cov='cov'\n",
    "event_id = f'run{run}_ID{ID}'"
   ]
  },
  {
   "cell_type": "markdown",
   "id": "f7819878",
   "metadata": {
    "id": "f7819878"
   },
   "source": [
    "# Reading pointing patches\n",
    "By now I read them and plot pointings but I don't really use them (I just read the t_trigger)"
   ]
  },
  {
   "cell_type": "code",
   "execution_count": 5,
   "id": "4f2b5a62",
   "metadata": {
    "id": "4f2b5a62"
   },
   "outputs": [],
   "source": [
    "df = pd.read_csv (f'/home/dell/tesi_GW/ScheduledObsCommas/run{run}_MergerID{ID}_{cov}.txt', \n",
    "                        header=0,\n",
    "                        sep=',',\n",
    "                        #skiprows=9, # 9 for triggered, 11 for non triggered\n",
    "                        #skipfooter=2, # esclude le ultime n righe, n=2 in questo caso\n",
    "                        engine='python')"
   ]
  },
  {
   "cell_type": "code",
   "execution_count": 6,
   "id": "16017731",
   "metadata": {
    "id": "16017731",
    "outputId": "6c6ba6f7-005b-45b0-f4f3-570156033c7b"
   },
   "outputs": [
    {
     "data": {
      "text/html": [
       "<div>\n",
       "<style scoped>\n",
       "    .dataframe tbody tr th:only-of-type {\n",
       "        vertical-align: middle;\n",
       "    }\n",
       "\n",
       "    .dataframe tbody tr th {\n",
       "        vertical-align: top;\n",
       "    }\n",
       "\n",
       "    .dataframe thead th {\n",
       "        text-align: right;\n",
       "    }\n",
       "</style>\n",
       "<table border=\"1\" class=\"dataframe\">\n",
       "  <thead>\n",
       "    <tr style=\"text-align: right;\">\n",
       "      <th></th>\n",
       "      <th>Observation_Time_UTC</th>\n",
       "      <th>RA[deg]</th>\n",
       "      <th>DEC[deg]</th>\n",
       "      <th>Observatory</th>\n",
       "      <th>PGW</th>\n",
       "      <th>ZenIni[deg]</th>\n",
       "      <th>ZenEnd[deg]</th>\n",
       "      <th>Duration[s]</th>\n",
       "      <th>Delay[s]</th>\n",
       "    </tr>\n",
       "  </thead>\n",
       "  <tbody>\n",
       "    <tr>\n",
       "      <th>0</th>\n",
       "      <td>2016-09-13T08:11:00</td>\n",
       "      <td>3.5156</td>\n",
       "      <td>-20.7424</td>\n",
       "      <td>South</td>\n",
       "      <td>0.5759</td>\n",
       "      <td>38.4663</td>\n",
       "      <td>40.4022</td>\n",
       "      <td>510</td>\n",
       "      <td>79735</td>\n",
       "    </tr>\n",
       "    <tr>\n",
       "      <th>1</th>\n",
       "      <td>2016-09-13T08:19:50</td>\n",
       "      <td>3.5156</td>\n",
       "      <td>-16.9578</td>\n",
       "      <td>South</td>\n",
       "      <td>0.1589</td>\n",
       "      <td>41.5248</td>\n",
       "      <td>43.4631</td>\n",
       "      <td>510</td>\n",
       "      <td>80265</td>\n",
       "    </tr>\n",
       "    <tr>\n",
       "      <th>2</th>\n",
       "      <td>2016-09-13T08:28:40</td>\n",
       "      <td>2.8125</td>\n",
       "      <td>-23.9695</td>\n",
       "      <td>South</td>\n",
       "      <td>0.1009</td>\n",
       "      <td>42.4251</td>\n",
       "      <td>44.3374</td>\n",
       "      <td>510</td>\n",
       "      <td>80795</td>\n",
       "    </tr>\n",
       "    <tr>\n",
       "      <th>3</th>\n",
       "      <td>2016-09-13T08:37:30</td>\n",
       "      <td>0.0000</td>\n",
       "      <td>-20.1055</td>\n",
       "      <td>South</td>\n",
       "      <td>0.0333</td>\n",
       "      <td>47.8438</td>\n",
       "      <td>49.8107</td>\n",
       "      <td>520</td>\n",
       "      <td>81325</td>\n",
       "    </tr>\n",
       "    <tr>\n",
       "      <th>4</th>\n",
       "      <td>2016-09-13T08:46:30</td>\n",
       "      <td>6.3281</td>\n",
       "      <td>-20.7424</td>\n",
       "      <td>South</td>\n",
       "      <td>0.0322</td>\n",
       "      <td>43.9935</td>\n",
       "      <td>45.9999</td>\n",
       "      <td>530</td>\n",
       "      <td>81865</td>\n",
       "    </tr>\n",
       "    <tr>\n",
       "      <th>5</th>\n",
       "      <td>2016-09-13T08:55:40</td>\n",
       "      <td>0.7031</td>\n",
       "      <td>-16.9578</td>\n",
       "      <td>South</td>\n",
       "      <td>0.0109</td>\n",
       "      <td>52.2533</td>\n",
       "      <td>54.3028</td>\n",
       "      <td>540</td>\n",
       "      <td>82415</td>\n",
       "    </tr>\n",
       "    <tr>\n",
       "      <th>6</th>\n",
       "      <td>2016-09-13T09:05:00</td>\n",
       "      <td>6.3281</td>\n",
       "      <td>-23.3180</td>\n",
       "      <td>South</td>\n",
       "      <td>0.0098</td>\n",
       "      <td>47.5789</td>\n",
       "      <td>49.6373</td>\n",
       "      <td>550</td>\n",
       "      <td>82975</td>\n",
       "    </tr>\n",
       "    <tr>\n",
       "      <th>7</th>\n",
       "      <td>2016-09-13T09:14:30</td>\n",
       "      <td>0.0000</td>\n",
       "      <td>-23.9695</td>\n",
       "      <td>South</td>\n",
       "      <td>0.0066</td>\n",
       "      <td>55.1921</td>\n",
       "      <td>56.4876</td>\n",
       "      <td>350</td>\n",
       "      <td>83545</td>\n",
       "    </tr>\n",
       "  </tbody>\n",
       "</table>\n",
       "</div>"
      ],
      "text/plain": [
       "  Observation_Time_UTC  RA[deg]  DEC[deg] Observatory     PGW  ZenIni[deg]  \\\n",
       "0  2016-09-13T08:11:00   3.5156  -20.7424       South  0.5759      38.4663   \n",
       "1  2016-09-13T08:19:50   3.5156  -16.9578       South  0.1589      41.5248   \n",
       "2  2016-09-13T08:28:40   2.8125  -23.9695       South  0.1009      42.4251   \n",
       "3  2016-09-13T08:37:30   0.0000  -20.1055       South  0.0333      47.8438   \n",
       "4  2016-09-13T08:46:30   6.3281  -20.7424       South  0.0322      43.9935   \n",
       "5  2016-09-13T08:55:40   0.7031  -16.9578       South  0.0109      52.2533   \n",
       "6  2016-09-13T09:05:00   6.3281  -23.3180       South  0.0098      47.5789   \n",
       "7  2016-09-13T09:14:30   0.0000  -23.9695       South  0.0066      55.1921   \n",
       "\n",
       "   ZenEnd[deg]  Duration[s]  Delay[s]  \n",
       "0      40.4022          510     79735  \n",
       "1      43.4631          510     80265  \n",
       "2      44.3374          510     80795  \n",
       "3      49.8107          520     81325  \n",
       "4      45.9999          530     81865  \n",
       "5      54.3028          540     82415  \n",
       "6      49.6373          550     82975  \n",
       "7      56.4876          350     83545  "
      ]
     },
     "execution_count": 6,
     "metadata": {},
     "output_type": "execute_result"
    }
   ],
   "source": [
    "df"
   ]
  },
  {
   "cell_type": "code",
   "execution_count": 7,
   "id": "337b1fdd",
   "metadata": {},
   "outputs": [],
   "source": [
    "# select your pointing \n",
    "ii=0"
   ]
  },
  {
   "cell_type": "markdown",
   "id": "a8a3f283",
   "metadata": {
    "id": "a8a3f283"
   },
   "source": [
    "# Reading GRB flux from fits file"
   ]
  },
  {
   "cell_type": "code",
   "execution_count": 8,
   "id": "9e4668c7",
   "metadata": {
    "id": "9e4668c7"
   },
   "outputs": [],
   "source": [
    "# Open fits file\n",
    "hdul = fits.open(f'/home/dell/tesi_GW/fits/{event_id}.fits') "
   ]
  },
  {
   "cell_type": "markdown",
   "id": "5efd3e57",
   "metadata": {
    "id": "5efd3e57"
   },
   "source": [
    "## Reading info from fits header\n",
    "FITS (Flexible Image Transport System) format is a standard widely used in the astronomical community. This is an excellent choice for all types of astronomical images since the format supports 16-bit and floating-point data, and it includes a flexible and highly extensible header. Various standard and widely used non-standard keywords can transfer information about the image between applications. \n",
    "\n",
    "Among the information stored in these sources' header youcan find details about the source such as\n",
    "- the source position \n",
    "- the source redshift\n",
    "- the value of E_iso\n",
    "\n",
    "In this section information about source position is read from the header.\n",
    "In this kind of work we don't know a priori where the source is. We assume to detect it at some point while scanning a certain region of the sky. \n",
    "\n",
    "Anyway, this notebook represents a preliminary step, what we want to do is to simulate the source in different positions with respect to the center of the camera (quantity that is controlled by the parameter called offset)\n"
   ]
  },
  {
   "cell_type": "code",
   "execution_count": 9,
   "id": "cfb7663d",
   "metadata": {
    "colab": {
     "base_uri": "https://localhost:8080/",
     "height": 200
    },
    "executionInfo": {
     "elapsed": 676,
     "status": "error",
     "timestamp": 1657139469748,
     "user": {
      "displayName": "Irene Burelli",
      "userId": "08034705059639316508"
     },
     "user_tz": -120
    },
    "id": "cfb7663d",
    "outputId": "1911b2e0-7502-4dad-a8c8-126eeb77f1c3",
    "scrolled": true
   },
   "outputs": [
    {
     "data": {
      "text/plain": [
       "SIMPLE  =                    T / conforms to FITS standard                      \n",
       "BITPIX  =                    8 / array data type                                \n",
       "NAXIS   =                    0 / number of array dimensions                     \n",
       "EXTEND  =                    T                                                  \n",
       "RUN     = '0004    '           / identif. num. of the realization               \n",
       "MERGERID= '000390  '           / identif. num. for a given realization          \n",
       "RA      =                4.203 / right ascension of the BNS                     \n",
       "DEC     =              -22.365 / declination of the BNS                         \n",
       "EISO    =              4.9E+48 / Eiso prompt emission of the GRB (erg)          \n",
       "DISTANCE=             339000.0 / distance (kpc)                                 \n",
       "REDSHIFT=                0.077 / redshift                                       \n",
       "ANGLE   =                29.84 / viewing angle (deg)                            \n",
       "N_DET   =                  3.0 / number of interferometers detecting the event  \n",
       "SNR     =                12.84 / combined SNR of the GW detection               \n",
       "90CL    =               66.111 / GW localization area at 90% confidence level   \n",
       "50CL    =               12.563 / GW localization area at 50% confidence level   \n",
       "AUTHOR  = '' / Lara                                                             \n",
       "PROJECT = '' / CTA-GW                                                           \n",
       "HISTORY Created Sept 2020. BNS catalog from B. Patricelli (v7140140)            "
      ]
     },
     "execution_count": 9,
     "metadata": {},
     "output_type": "execute_result"
    }
   ],
   "source": [
    "#Read trigger time \n",
    "hdr=hdul[0].header\n",
    "hdr"
   ]
  },
  {
   "cell_type": "markdown",
   "id": "cdb778e9",
   "metadata": {
    "id": "cdb778e9"
   },
   "source": [
    "This code is based on the one used to determine the significance of long GRBs. That kind of study assumes that the position of the source is known, and observations are based on visibility tables. These tables tell you when the source is visible from a specific site- La palma or Paranal - according to the site coordinates and the explosion date of the GRB. \n",
    "Similar tables have been created for the BNS mergers simulated for this study, in order to keep the structure of the code. Next step will be to compute the visibiliy tables of the regions we decide to point (looking for the source) instead of the source itself.\n",
    "\n",
    "For consitency the key for the 'explosion time' is GRBJD and is set, if not present in the fits header, to the day you run the visibility tables. "
   ]
  },
  {
   "cell_type": "code",
   "execution_count": 10,
   "id": "cb5a5848",
   "metadata": {
    "id": "cb5a5848"
   },
   "outputs": [],
   "source": [
    "# GRB explosion date. If not present in the header it is inserted by hand\n",
    "'GRBJD' in hdr  # Check for existence\n",
    "False\n",
    "time = (Time(df['Observation_Time_UTC'][0], scale='utc' ,format='isot') - df['Delay[s]'][0]*u.s)\n",
    "hdr['GRBJD'] = time.jd"
   ]
  },
  {
   "cell_type": "code",
   "execution_count": 11,
   "id": "19656dc1",
   "metadata": {
    "id": "19656dc1"
   },
   "outputs": [
    {
     "data": {
      "text/plain": [
       "'2016-09-12T10:02:05.000'"
      ]
     },
     "execution_count": 11,
     "metadata": {},
     "output_type": "execute_result"
    }
   ],
   "source": [
    "#Reading t_trigger == t_explosion (given in JD)\n",
    "t_trigger = Time(hdr['GRBJD'] * u.day, format='jd')\n",
    "trigger=t_trigger.value\n",
    "t_trigger.isot"
   ]
  },
  {
   "cell_type": "code",
   "execution_count": 12,
   "id": "2d3296fa",
   "metadata": {
    "id": "2d3296fa"
   },
   "outputs": [
    {
     "name": "stdout",
     "output_type": "stream",
     "text": [
      "2016-09-12T10:02:05.000\n",
      "2457643.918113426\n"
     ]
    }
   ],
   "source": [
    "#checking values\n",
    "print(t_trigger.isot) # \n",
    "print(t_trigger.jd)  # checking if tstart is correct"
   ]
  },
  {
   "cell_type": "code",
   "execution_count": 13,
   "id": "9e2bb861",
   "metadata": {
    "id": "9e2bb861"
   },
   "outputs": [],
   "source": [
    "# defining on region and pointing direction\n",
    "grb_radec = SkyCoord(ra=hdr['RA'] * u.deg, dec=hdr['DEC'] * u.deg, frame='icrs')   # source coordinates\n",
    "#pointing = SkyCoord(df['RA[deg]'][ii],df['DEC[deg]'][ii] , unit=\"deg\", frame=\"icrs\")\n",
    "pointing = SkyCoord(grb_radec.ra, grb_radec.dec-0.4*u.deg, unit=\"deg\", frame=\"icrs\")\n"
   ]
  },
  {
   "cell_type": "code",
   "execution_count": 14,
   "id": "c71edcb7",
   "metadata": {
    "id": "c71edcb7"
   },
   "outputs": [
    {
     "data": {
      "text/plain": [
       "<SkyCoord (ICRS): (ra, dec) in deg\n",
       "    (4.203, -22.365)>"
      ]
     },
     "execution_count": 14,
     "metadata": {},
     "output_type": "execute_result"
    }
   ],
   "source": [
    "grb_radec"
   ]
  },
  {
   "cell_type": "code",
   "execution_count": 15,
   "id": "5280b53d",
   "metadata": {
    "id": "5280b53d",
    "outputId": "4f88d17f-0f33-4f4f-a0ba-22a1867fb015"
   },
   "outputs": [
    {
     "data": {
      "image/png": "[encoded data removed]",
      "text/plain": [
       "<Figure size 864x864 with 1 Axes>"
      ]
     },
     "metadata": {
      "needs_background": "light"
     },
     "output_type": "display_data"
    }
   ],
   "source": [
    "fig, ax = plt.subplots(figsize=(12,12))\n",
    "\n",
    "for i in range (len(df['RA[deg]'])):\n",
    "    circle= plt.Circle((df['RA[deg]'][i],df['DEC[deg]'][i]),3.85, alpha=0.15)\n",
    "    ax.annotate(i+1 ,(df['RA[deg]'][i]+0.25,df['DEC[deg]'][i]-0.35))\n",
    "    ax.add_patch(circle)\n",
    "\n",
    "    ax.add_patch(circle)\n",
    "\n",
    "ax.scatter(df['RA[deg]'],df['DEC[deg]'], color = 'black')\n",
    "\n",
    "ax.scatter(grb_radec.ra, grb_radec.dec , marker='*', color ='red', label='GRB position')\n",
    "ax.set_xlabel('RA(deg)');\n",
    "ax.set_ylabel('DEC(deg)');\n",
    "ax.set_title('Map of pointings')\n",
    "plt.legend();"
   ]
  },
  {
   "cell_type": "code",
   "execution_count": 16,
   "id": "05c76b3f",
   "metadata": {
    "id": "05c76b3f",
    "scrolled": true
   },
   "outputs": [],
   "source": [
    "grb_Eval=[]\n",
    "# reading Energy from Lara's files. \n",
    "grb_Eval     = Table.read(hdul,hdu=1)[\"Energies\"].quantity\n",
    "#print (grb_Eval[0])"
   ]
  },
  {
   "cell_type": "code",
   "execution_count": 17,
   "id": "a678118a",
   "metadata": {
    "id": "a678118a"
   },
   "outputs": [],
   "source": [
    "# GeV to Tev conversion\n",
    "grb_Eval     = grb_Eval.to(u.TeV)\n",
    "#print (grb_Eval[0])"
   ]
  },
  {
   "cell_type": "code",
   "execution_count": 18,
   "id": "0e34e1d6",
   "metadata": {
    "id": "0e34e1d6"
   },
   "outputs": [],
   "source": [
    "grb_tval=[]\n",
    "# reading time intervals form Lara's files\n",
    "grb_tval = Table.read(hdul,hdu=2)[\"Final Time\"].quantity "
   ]
  },
  {
   "cell_type": "code",
   "execution_count": 19,
   "id": "8ca00898",
   "metadata": {
    "id": "8ca00898"
   },
   "outputs": [
    {
     "name": "stdout",
     "output_type": "stream",
     "text": [
      "Number of time intervals:    70\n",
      "Number of energy intervals:  41\n"
     ]
    }
   ],
   "source": [
    "print(f'Number of time intervals:    {len(grb_tval)}')\n",
    "print(f'Number of energy intervals:  {len(grb_Eval)}')"
   ]
  },
  {
   "cell_type": "markdown",
   "id": "ac4cde6d",
   "metadata": {
    "id": "ac4cde6d"
   },
   "source": [
    "## Reading source flux from fits\n",
    "FLux is stored in the extention number 3 of the fits file, named spectra. If you open it with fitsviewer or a similar application you will se that it is made of 70 rows and 41 columns. This means that rows represnt time intervals, columns energy ones. From the same file you also find out that the flux is reported in units of ph/(GeVscm2)"
   ]
  },
  {
   "cell_type": "code",
   "execution_count": 20,
   "id": "e1cc47c1",
   "metadata": {
    "id": "e1cc47c1"
   },
   "outputs": [],
   "source": [
    "flux=[]\n",
    "# reading flux form Lara's files:\n",
    "# unabsorbed flux, by now will not be considered as a problem: sources are \n",
    "# closeby and than only mildly absorbed\n",
    "flux = Table.read(hdul,hdu=3)"
   ]
  },
  {
   "cell_type": "code",
   "execution_count": 21,
   "id": "c33217c1",
   "metadata": {
    "id": "c33217c1"
   },
   "outputs": [],
   "source": [
    "# column number - energy\n",
    "icol_E  = len(flux.colnames)   \n",
    "# row number - time\n",
    "jrow_t  = len(flux[flux.colnames[0]])    \n",
    "magnify= 1e3       # needed to convert flux from 1/GeV to 1/TeV\n",
    "flux_unit = u.Unit(\"1 /(cm2 TeV s)\")"
   ]
  },
  {
   "cell_type": "code",
   "execution_count": 22,
   "id": "dcf47bf0",
   "metadata": {
    "id": "dcf47bf0",
    "outputId": "92e1e718-9755-4427-cb46-e0ece7a46743"
   },
   "outputs": [
    {
     "data": {
      "text/html": [
       "<div><i>Table length=70</i>\n",
       "<table id=\"table140059417398960\" class=\"table-striped table-bordered table-condensed\">\n",
       "<thead><tr><th>col0</th><th>col1</th><th>col2</th><th>col3</th><th>col4</th><th>col5</th><th>col6</th><th>col7</th><th>col8</th><th>col9</th><th>col10</th><th>col11</th><th>col12</th><th>col13</th><th>col14</th><th>col15</th><th>col16</th><th>col17</th><th>col18</th><th>col19</th><th>col20</th><th>col21</th><th>col22</th><th>col23</th><th>col24</th><th>col25</th><th>col26</th><th>col27</th><th>col28</th><th>col29</th><th>col30</th><th>col31</th><th>col32</th><th>col33</th><th>col34</th><th>col35</th><th>col36</th><th>col37</th><th>col38</th><th>col39</th><th>col40</th></tr></thead>\n",
       "<thead><tr><th>float64</th><th>float64</th><th>float64</th><th>float64</th><th>float64</th><th>float64</th><th>float64</th><th>float64</th><th>float64</th><th>float64</th><th>float64</th><th>float64</th><th>float64</th><th>float64</th><th>float64</th><th>float64</th><th>float64</th><th>float64</th><th>float64</th><th>float64</th><th>float64</th><th>float64</th><th>float64</th><th>float64</th><th>float64</th><th>float64</th><th>float64</th><th>float64</th><th>float64</th><th>float64</th><th>float64</th><th>float64</th><th>float64</th><th>float64</th><th>float64</th><th>float64</th><th>float64</th><th>float64</th><th>float64</th><th>float64</th><th>float64</th></tr></thead>\n",
       "<tr><td>1.6067952066620405e-14</td><td>9.28881957961779e-15</td><td>5.369829884041887e-15</td><td>3.1042774312057286e-15</td><td>1.794570513030806e-15</td><td>1.03743412037396e-15</td><td>5.997365644320139e-16</td><td>3.4670533738283214e-16</td><td>2.0042898515548152e-16</td><td>1.1586720410392304e-16</td><td>6.698237271642952e-17</td><td>3.8722244913224505e-17</td><td>2.2385176731011232e-17</td><td>1.2940782188676065e-17</td><td>7.48101503361195e-18</td><td>4.324745221513823e-18</td><td>2.5001181185939087e-18</td><td>1.4453084024065575e-18</td><td>8.3552707471350515e-19</td><td>4.830148993923386e-19</td><td>2.792290041767821e-19</td><td>1.6142118363563225e-19</td><td>9.331694822731155e-20</td><td>5.394615892617283e-20</td><td>3.1186061247941205e-20</td><td>1.802853874158747e-20</td><td>1.0422226987012575e-20</td><td>6.025047725546383e-21</td><td>3.4830534558546896e-21</td><td>2.0135364702337707e-21</td><td>1.1640091093717628e-21</td><td>6.729018591340374e-22</td><td>3.889716653982549e-22</td><td>2.2484159222782776e-22</td><td>1.2989000076293241e-22</td><td>7.497178333418057e-23</td><td>4.31077868660335e-23</td><td>2.447490063378455e-23</td><td>1.3045258380239289e-23</td><td>6.2764249267205654e-24</td><td>0.0</td></tr>\n",
       "<tr><td>2.4802187920137454e-14</td><td>1.43380468036453e-14</td><td>8.28876818470553e-15</td><td>4.791704125440547e-15</td><td>2.7700652152548515e-15</td><td>1.6013637519948986e-15</td><td>9.257420554870405e-16</td><td>5.351678231943033e-16</td><td>3.093784032873491e-16</td><td>1.7885043209310883e-16</td><td>1.0339272786983094e-16</td><td>5.977092731204421e-17</td><td>3.4553336828867265e-17</td><td>1.9975147445446615e-17</td><td>1.154755378455911e-17</td><td>6.675595200058567e-18</td><td>3.859135199234437e-18</td><td>2.230950805081705e-18</td><td>1.2897038423743408e-18</td><td>7.45572693600573e-19</td><td>4.3101262722412597e-19</td><td>2.4916669618022147e-19</td><td>1.4404228220692733e-19</td><td>8.327027400312366e-20</td><td>4.8138216267596926e-20</td><td>2.7828511988156824e-20</td><td>1.6087552453696945e-20</td><td>9.300148825398962e-21</td><td>5.376374470905787e-21</td><td>3.108055587179067e-21</td><td>1.796741434730183e-21</td><td>1.0386779510601668e-21</td><td>6.004042559072419e-22</td><td>3.4705754411914157e-22</td><td>2.0049454596262116e-22</td><td>1.1571730030841563e-22</td><td>6.651986283949988e-23</td><td>3.774370858477443e-23</td><td>2.0073586307341833e-23</td><td>9.606187092126769e-24</td><td>0.0</td></tr>\n",
       "<tr><td>3.8797019811174886e-14</td><td>2.242840380396153e-14</td><td>1.2965771588689528e-14</td><td>7.495461306986784e-15</td><td>4.333096555051555e-15</td><td>2.5049459915026378e-15</td><td>1.4480993766524704e-15</td><td>8.371405258934772e-16</td><td>4.839476291421643e-16</td><td>2.797682115584534e-16</td><td>1.617328972917086e-16</td><td>9.349714865981159e-17</td><td>5.405033208394194e-17</td><td>3.124628333869333e-17</td><td>1.806335289421773e-17</td><td>1.044235291104193e-17</td><td>6.0366829434889285e-18</td><td>3.489782549072462e-18</td><td>2.017429497924245e-18</td><td>1.1662680186697071e-18</td><td>6.742149318086568e-19</td><td>3.897609871804997e-19</td><td>2.2531928612199767e-19</td><td>1.3025618871140479e-19</td><td>7.530058757431639e-20</td><td>4.353097032307959e-20</td><td>2.5165080826017087e-20</td><td>1.4547831035550635e-20</td><td>8.410035927965739e-21</td><td>4.861800280926968e-21</td><td>2.810567224626663e-21</td><td>1.6247601353067445e-21</td><td>9.391862146520527e-22</td><td>5.428836929720716e-22</td><td>3.1362438780596613e-22</td><td>1.8101521946500431e-22</td><td>1.0406597929139288e-22</td><td>5.903994689501433e-23</td><td>3.1438578701112757e-23</td><td>1.501658659476002e-23</td><td>0.0</td></tr>\n",
       "<tr><td>6.001846970568547e-14</td><td>3.469644010819657e-14</td><td>2.0057874885597665e-14</td><td>1.1595378190722447e-14</td><td>6.703242300231108e-15</td><td>3.875117878566415e-15</td><td>2.240190328830474e-15</td><td>1.2950451745334117e-15</td><td>7.486604966096159e-16</td><td>4.32797673938821e-16</td><td>2.50198624630421e-16</td><td>1.4463883596519314e-16</td><td>8.361513937284221e-17</td><td>4.833758157471834e-17</td><td>2.794376484949613e-17</td><td>1.6154180009128572e-17</td><td>9.33866761235768e-18</td><td>5.398646834739772e-18</td><td>3.1209363965024565e-18</td><td>1.804200995022712e-18</td><td>1.0430014639480954e-18</td><td>6.029550237467704e-19</td><td>3.485659155276138e-19</td><td>2.0150457785099034e-19</td><td>1.1648899903510529e-19</td><td>6.734182688060903e-20</td><td>3.893004217110804e-20</td><td>2.2505299145383426e-20</td><td>1.3010212598483222e-20</td><td>7.52113943443264e-21</td><td>4.3479095298462186e-21</td><td>2.513481586257352e-21</td><td>1.4529084267236475e-21</td><td>8.398346387367101e-22</td><td>4.851525965637462e-22</td><td>2.800046548553675e-22</td><td>1.6095192311702723e-22</td><td>9.128901926156453e-23</td><td>4.855950103118086e-23</td><td>2.3088692741061918e-23</td><td>0.0</td></tr>\n",
       "<tr><td>9.461607457727322e-14</td><td>5.4697178734166193e-14</td><td>3.16202228304656e-14</td><td>1.8279525836380244e-14</td><td>1.0567321634462112e-14</td><td>6.10892686854747e-15</td><td>3.5315464765978877e-15</td><td>2.0415730593508247e-15</td><td>1.1802253161007135e-15</td><td>6.822835902859873e-16</td><td>3.944254467541115e-16</td><td>2.28015791764786e-16</td><td>1.318150279653081e-16</td><td>7.620174665541893e-17</td><td>4.4051928546909553e-17</td><td>2.5466245773567535e-17</td><td>1.4721936023961945e-17</td><td>8.510693025612256e-18</td><td>4.919997998789861e-18</td><td>2.8442313963444593e-18</td><td>1.6442389281339797e-18</td><td>9.505280251297516e-19</td><td>5.494964929247689e-19</td><td>3.1766175006132165e-19</td><td>1.8363900047496873e-19</td><td>1.0616097558397127e-19</td><td>6.137123748123106e-20</td><td>3.5478463083599294e-20</td><td>2.0509940042035866e-20</td><td>1.1856695196324564e-20</td><td>6.854255614258875e-21</td><td>3.962374369445961e-21</td><td>2.290440669279534e-21</td><td>1.323960269766869e-21</td><td>7.648335084669953e-22</td><td>4.414046277696155e-22</td><td>2.537160208816168e-22</td><td>1.4393109350888127e-22</td><td>7.629206394979153e-23</td><td>3.621114403709935e-23</td><td>0.0</td></tr>\n",
       "<tr><td>1.570223032124089e-13</td><td>9.077397284163573e-14</td><td>5.24760749070636e-14</td><td>3.0336211487139905e-14</td><td>1.753724395397952e-14</td><td>1.0138211412185381e-14</td><td>5.860859945147914e-15</td><td>3.3881399686884973e-15</td><td>1.9586703239561555e-15</td><td>1.132299572449932e-15</td><td>6.5457790731249e-16</td><td>3.7840890093645626e-16</td><td>2.1875668993450744e-16</td><td>1.264623777946971e-16</td><td>7.3107400748643e-17</td><td>4.2263099408896384e-17</td><td>2.4432130719397927e-17</td><td>1.4124118198583756e-17</td><td>8.165096903692446e-18</td><td>4.720210246709269e-18</td><td>2.7287348863687665e-18</td><td>1.5774708515111703e-18</td><td>9.119296619481368e-19</td><td>5.271829321308623e-19</td><td>3.0476236665973874e-19</td><td>1.761819122081203e-19</td><td>1.0185006260157692e-19</td><td>5.887910803660553e-20</td><td>3.403774790130388e-20</td><td>1.9677055917492654e-20</td><td>1.1375143921385301e-20</td><td>6.575853186293189e-21</td><td>3.8011773607922526e-21</td><td>2.1972357274399888e-21</td><td>1.2693334337551443e-21</td><td>7.326521719559471e-22</td><td>4.212653383851737e-22</td><td>2.3917783878528897e-22</td><td>1.2748312046155338e-22</td><td>6.13355605292607e-23</td><td>0.0</td></tr>\n",
       "<tr><td>...</td><td>...</td><td>...</td><td>...</td><td>...</td><td>...</td><td>...</td><td>...</td><td>...</td><td>...</td><td>...</td><td>...</td><td>...</td><td>...</td><td>...</td><td>...</td><td>...</td><td>...</td><td>...</td><td>...</td><td>...</td><td>...</td><td>...</td><td>...</td><td>...</td><td>...</td><td>...</td><td>...</td><td>...</td><td>...</td><td>...</td><td>...</td><td>...</td><td>...</td><td>...</td><td>...</td><td>...</td><td>...</td><td>...</td><td>...</td><td>...</td></tr>\n",
       "<tr><td>2.3024347276542596e-11</td><td>1.3310284154665823e-11</td><td>7.694622659659265e-12</td><td>4.448230945827528e-12</td><td>2.571504727730688e-12</td><td>1.48657671898622e-12</td><td>8.593841252972477e-13</td><td>4.968065652698151e-13</td><td>2.872019104188956e-13</td><td>1.6603028713002776e-13</td><td>9.598144757964215e-14</td><td>5.548649179316474e-14</td><td>3.2076511657906326e-14</td><td>1.8543299230844308e-14</td><td>1.0719796701025298e-14</td><td>6.197060252734481e-15</td><td>3.582482376402627e-15</td><td>2.0710111646091296e-15</td><td>1.1972226699084163e-15</td><td>6.920961657562342e-16</td><td>4.000846007631687e-16</td><td>2.3126514724698637e-16</td><td>1.336704529031632e-16</td><td>7.726181343800386e-17</td><td>4.466102006148259e-17</td><td>2.579934878416082e-17</td><td>1.489782004629769e-17</td><td>8.599586711331673e-18</td><td>4.96685893434129e-18</td><td>2.8661188125675083e-18</td><td>1.6475228111234395e-18</td><td>9.387452049101206e-19</td><td>5.384547648013774e-19</td><td>3.018382591717589e-19</td><td>1.655574753489569e-19</td><td>9.28420088397058e-20</td><td>4.8549312799484553e-20</td><td>2.25282512602928e-20</td><td>9.268120907886306e-21</td><td>3.3613960720388946e-21</td><td>0.0</td></tr>\n",
       "<tr><td>1.772565468027624e-11</td><td>1.0247130908328612e-11</td><td>5.923825875367454e-12</td><td>3.4245403240699756e-12</td><td>1.9797132255261904e-12</td><td>1.1444643906730368e-12</td><td>6.616103406436412e-13</td><td>3.824743228497861e-13</td><td>2.2110689411137585e-13</td><td>1.278210206544681e-13</td><td>7.389282488648938e-14</td><td>4.2717148283083155e-14</td><td>2.4694610783956125e-14</td><td>1.4275852550251685e-14</td><td>8.25280588823344e-15</td><td>4.77090356341263e-15</td><td>2.7580331039565593e-15</td><td>1.5943977572866883e-15</td><td>9.217064556933257e-16</td><td>5.328240801899305e-16</td><td>3.0800935907233997e-16</td><td>1.7805275812964035e-16</td><td>1.0291440168802723e-16</td><td>5.949097834146462e-17</td><td>3.437940822946477e-17</td><td>1.9857487740508375e-17</td><td>1.1475013146385443e-17</td><td>6.622479677390724e-18</td><td>3.8192325644356625e-18</td><td>2.200565927458981e-18</td><td>1.2655016238715627e-18</td><td>7.303782639310105e-19</td><td>4.1572496382408117e-19</td><td>2.32404113182445e-19</td><td>1.2683311407608807e-19</td><td>7.076857754830124e-20</td><td>3.7609875042496044e-20</td><td>1.7759626560845757e-20</td><td>7.137662232443562e-21</td><td>2.709924798113039e-21</td><td>0.0</td></tr>\n",
       "<tr><td>1.3525814462189398e-11</td><td>7.81921987853483e-12</td><td>4.520260105577197e-12</td><td>2.6131445002799385e-12</td><td>1.510648506911822e-12</td><td>8.732999308650732e-13</td><td>5.048512382327845e-13</td><td>2.918525053502561e-13</td><td>1.6871877976843921e-13</td><td>9.753565970725057e-14</td><td>5.6384979357870765e-14</td><td>3.259593339137301e-14</td><td>1.8843579741253513e-14</td><td>1.0893397404976955e-14</td><td>6.297426918531916e-15</td><td>3.6405122215914575e-15</td><td>2.1045603835517247e-15</td><td>1.2166291913619172e-15</td><td>7.033240917405905e-16</td><td>4.065809356352437e-16</td><td>2.3503421472123394e-16</td><td>1.3586534988074208e-16</td><td>7.853617657588216e-17</td><td>4.539871497062702e-17</td><td>2.6232984384880466e-17</td><td>1.5156578194243214e-17</td><td>8.758040797775457e-18</td><td>5.05609211878476e-18</td><td>2.9135465356449265e-18</td><td>1.6808615198490735e-18</td><td>9.671429549419432e-19</td><td>5.564507096899936e-19</td><td>3.1475331738426135e-19</td><td>1.7992022937255696e-19</td><td>9.949111240656335e-20</td><td>5.402583555388322e-20</td><td>2.926906037154472e-20</td><td>1.3668837325363043e-20</td><td>5.9868380585153955e-21</td><td>1.9745759436720365e-21</td><td>0.0</td></tr>\n",
       "<tr><td>1.0197611937745323e-11</td><td>5.895199154187908e-12</td><td>3.407991329705552e-12</td><td>1.970146317295736e-12</td><td>1.1389337988396e-12</td><td>6.584131273659543e-13</td><td>3.806260264902938e-13</td><td>2.2003840145378237e-13</td><td>1.2720333015790551e-13</td><td>7.35357423811293e-14</td><td>4.2510722013575807e-14</td><td>2.4575280368411585e-14</td><td>1.4206872444866115e-14</td><td>8.212936806374285e-15</td><td>4.747866095368679e-15</td><td>2.744721878623469e-15</td><td>1.5867108171406046e-15</td><td>9.172677520764245e-16</td><td>5.30265957600476e-16</td><td>3.065418541493402e-16</td><td>1.7720667336617872e-16</td><td>1.0243425175033426e-16</td><td>5.921410564082908e-17</td><td>3.422860663721621e-17</td><td>1.978367028743656e-17</td><td>1.1430817081939566e-17</td><td>6.604496427325237e-18</td><td>3.81177092990571e-18</td><td>2.2000851633701036e-18</td><td>1.2689397093344889e-18</td><td>7.287551252896975e-19</td><td>4.185053678596462e-19</td><td>2.3788768170438717e-19</td><td>1.3427364141274458e-19</td><td>7.555283196571272e-20</td><td>4.181914005720278e-20</td><td>2.2670868189232084e-20</td><td>1.063780432624786e-20</td><td>4.426269991241917e-21</td><td>1.5355404840548464e-21</td><td>0.0</td></tr>\n",
       "<tr><td>7.657646321858725e-12</td><td>4.426855071097471e-12</td><td>2.559147419039407e-12</td><td>1.4794330076752241e-12</td><td>8.552543741386016e-13</td><td>4.944191732159769e-13</td><td>2.858217697977592e-13</td><td>1.652324353825915e-13</td><td>9.552021779789705e-14</td><td>5.5219860356297494e-14</td><td>3.1922383010271295e-14</td><td>1.8454203442009238e-14</td><td>1.066830206784657e-14</td><td>6.167303257952352e-15</td><td>3.565293636574663e-15</td><td>2.0610821591445758e-15</td><td>1.1915034495799224e-15</td><td>6.888032331850033e-16</td><td>3.9819354907470794e-16</td><td>2.3019352502169393e-16</td><td>1.3307236000762496e-16</td><td>7.692528366122996e-17</td><td>4.446858673922205e-17</td><td>2.5704261694347155e-17</td><td>1.485775843802345e-17</td><td>8.58664851934554e-18</td><td>4.9612900098471845e-18</td><td>2.862970160326118e-18</td><td>1.6536039489562272e-18</td><td>9.526901956233568e-19</td><td>5.48704309290835e-19</td><td>3.141905124862946e-19</td><td>1.7912693338742603e-19</td><td>1.0059312657950449e-19</td><td>5.716659354723139e-20</td><td>3.122147747207195e-20</td><td>1.6671389305745462e-20</td><td>8.458575868414819e-21</td><td>3.554096487193328e-21</td><td>1.1324212155057354e-21</td><td>0.0</td></tr>\n",
       "<tr><td>5.497967216657632e-12</td><td>3.1783531167159953e-12</td><td>1.837393374033163e-12</td><td>1.0621898470580252e-12</td><td>6.140477521787293e-13</td><td>3.549785784528895e-13</td><td>2.052117131173163e-13</td><td>1.186320802344766e-13</td><td>6.858073667906901e-14</td><td>3.964625280234217e-14</td><td>2.291934203948185e-14</td><td>1.3249581042164152e-14</td><td>7.659530430256826e-15</td><td>4.427944266715304e-15</td><td>2.559777078720926e-15</td><td>1.479797011448324e-15</td><td>8.554648032810692e-16</td><td>4.94540821471497e-16</td><td>2.8589209417345005e-16</td><td>1.6527308962621395e-16</td><td>9.554362024029291e-17</td><td>5.523279927635589e-17</td><td>3.192924921760634e-17</td><td>1.8457166752264858e-17</td><td>1.0669053497549248e-17</td><td>6.166264752002022e-18</td><td>3.5630413715251955e-18</td><td>2.0576503359185542e-18</td><td>1.1880348112206671e-18</td><td>6.851710479298927e-19</td><td>3.9486964340721234e-19</td><td>2.261565729190074e-19</td><td>1.2924491089776403e-19</td><td>7.359351740324268e-20</td><td>4.1357493605686515e-20</td><td>2.2191878757494883e-20</td><td>1.1768245092332842e-20</td><td>5.754602880627708e-21</td><td>2.6842133952285344e-21</td><td>7.485988736189303e-22</td><td>0.0</td></tr>\n",
       "<tr><td>3.744829541372222e-12</td><td>2.1648711560754454e-12</td><td>1.2515034584698626e-12</td><td>7.234892026560145e-13</td><td>4.1824624839615633e-13</td><td>2.4178650304008835e-13</td><td>1.3977582172352578e-13</td><td>8.080385006125647e-14</td><td>4.671238633557673e-14</td><td>2.7004245905485784e-14</td><td>1.561104782113338e-14</td><td>9.024685041258848e-15</td><td>5.21713475143325e-15</td><td>3.0160049785865762e-15</td><td>1.7435405570768633e-15</td><td>1.007933904537699e-15</td><td>5.82682606259457e-16</td><td>3.3684651157065433e-16</td><td>1.9472963692139964e-16</td><td>1.1257243341701163e-16</td><td>6.50776788052179e-17</td><td>3.762114889163536e-17</td><td>2.174863747311639e-17</td><td>1.2572762167514525e-17</td><td>7.267939458312984e-18</td><td>4.201176243830355e-18</td><td>2.4283413132668783e-18</td><td>1.4031673591038483e-18</td><td>8.103268551967058e-19</td><td>4.676644711120984e-19</td><td>2.6927686900219516e-19</td><td>1.5513164893605245e-19</td><td>8.821871885113051e-20</td><td>5.052420601514972e-20</td><td>2.809831306664841e-20</td><td>1.5383978956194845e-20</td><td>8.098950342567903e-21</td><td>4.0341275729444445e-21</td><td>1.6573222551540663e-21</td><td>5.185306222962118e-22</td><td>0.0</td></tr>\n",
       "</table></div>"
      ],
      "text/plain": [
       "<Table length=70>\n",
       "         col0                   col1          ...  col40 \n",
       "       float64                float64         ... float64\n",
       "---------------------- ---------------------- ... -------\n",
       "1.6067952066620405e-14   9.28881957961779e-15 ...     0.0\n",
       "2.4802187920137454e-14   1.43380468036453e-14 ...     0.0\n",
       "3.8797019811174886e-14  2.242840380396153e-14 ...     0.0\n",
       " 6.001846970568547e-14  3.469644010819657e-14 ...     0.0\n",
       " 9.461607457727322e-14 5.4697178734166193e-14 ...     0.0\n",
       " 1.570223032124089e-13  9.077397284163573e-14 ...     0.0\n",
       "                   ...                    ... ...     ...\n",
       "2.3024347276542596e-11 1.3310284154665823e-11 ...     0.0\n",
       " 1.772565468027624e-11 1.0247130908328612e-11 ...     0.0\n",
       "1.3525814462189398e-11   7.81921987853483e-12 ...     0.0\n",
       "1.0197611937745323e-11  5.895199154187908e-12 ...     0.0\n",
       " 7.657646321858725e-12  4.426855071097471e-12 ...     0.0\n",
       " 5.497967216657632e-12 3.1783531167159953e-12 ...     0.0\n",
       " 3.744829541372222e-12 2.1648711560754454e-12 ...     0.0"
      ]
     },
     "execution_count": 22,
     "metadata": {},
     "output_type": "execute_result"
    }
   ],
   "source": [
    "flux"
   ]
  },
  {
   "cell_type": "code",
   "execution_count": 23,
   "id": "d9565995",
   "metadata": {
    "id": "d9565995"
   },
   "outputs": [],
   "source": [
    "# Grb fluxval must have the dimension of time x energy, \n",
    "# the same as flux in this case\n",
    "# ----------------------  TRUE\n",
    "grb_fluxval = np.zeros( (jrow_t,icol_E) )*flux_unit\n",
    "#print(grb_fluxval.shape)\n",
    "for i in range(0,icol_E):\n",
    "    for j in range(0,jrow_t):\n",
    "        f = flux[j][i] \n",
    "        grb_fluxval[j][i] = magnify*f*flux_unit \n",
    "# ----------------------        \n"
   ]
  },
  {
   "cell_type": "code",
   "execution_count": 24,
   "id": "1bbe14a5",
   "metadata": {
    "id": "1bbe14a5",
    "outputId": "341083e8-356b-446d-d04c-93bc1bb6fa62"
   },
   "outputs": [
    {
     "data": {
      "text/plain": [
       "(70, 41)"
      ]
     },
     "execution_count": 24,
     "metadata": {},
     "output_type": "execute_result"
    }
   ],
   "source": [
    "#checking if we defined grb_fluxval in the correct way\n",
    "grb_fluxval.shape #70 intervalli temporali, 41 intervalli energetici"
   ]
  },
  {
   "cell_type": "code",
   "execution_count": 25,
   "id": "af6ef00d",
   "metadata": {
    "id": "af6ef00d"
   },
   "outputs": [],
   "source": [
    "F = [] \n",
    "for j in range(0,jrow_t):\n",
    "    F.append(np.sum(grb_fluxval[j,:].value)) ## Sommo sui bin energetici"
   ]
  },
  {
   "cell_type": "code",
   "execution_count": 26,
   "id": "11f0fa38",
   "metadata": {
    "id": "11f0fa38",
    "outputId": "d63a459e-be1b-4a5f-849e-23f32fe58751"
   },
   "outputs": [
    {
     "data": {
      "text/plain": [
       "70"
      ]
     },
     "execution_count": 26,
     "metadata": {},
     "output_type": "execute_result"
    }
   ],
   "source": [
    "len(F)"
   ]
  },
  {
   "cell_type": "code",
   "execution_count": 27,
   "id": "221bd62f",
   "metadata": {
    "id": "221bd62f",
    "outputId": "a9ad3de0-4e1b-4681-881b-eb16391f6f10"
   },
   "outputs": [
    {
     "data": {
      "image/png": "[encoded data removed]",
      "text/plain": [
       "<Figure size 720x432 with 1 Axes>"
      ]
     },
     "metadata": {
      "needs_background": "light"
     },
     "output_type": "display_data"
    }
   ],
   "source": [
    "plt.figure(figsize=(10,6))\n",
    "plt.scatter(grb_tval.value,F)\n",
    "plt.xlabel(grb_tval.unit)\n",
    "plt.ylabel(flux_unit)\n",
    "plt.vlines(df['Delay[s]'][ii], np.min(F), np.max(F), color= 'orange',label=f'observation{ii+1} onset time',linestyle='-.')\n",
    "plt.xscale('log');\n",
    "plt.yscale('log');\n",
    "plt.legend();\n",
    "plt.title(event_id);\n"
   ]
  },
  {
   "cell_type": "code",
   "execution_count": 28,
   "id": "77c28bf7",
   "metadata": {
    "id": "77c28bf7"
   },
   "outputs": [],
   "source": [
    "# creating a spectral model for each one of the time intervals\n",
    "non_absorbed=[]\n",
    "\n",
    "for i,t in enumerate(grb_tval):\n",
    "\n",
    "    non_absorbed.append(TemplateSpectralModel(energy = grb_Eval.astype(float),\n",
    "                                        values = grb_fluxval[i],\n",
    "                                        interp_kwargs={\"values_scale\": \"log\"}))\n",
    "    "
   ]
  },
  {
   "cell_type": "code",
   "execution_count": 29,
   "id": "8bb578c6",
   "metadata": {
    "id": "8bb578c6",
    "outputId": "cb2e4566-d381-464e-cd7e-cfe03baf62be"
   },
   "outputs": [
    {
     "data": {
      "text/plain": [
       "<AxesSubplot:xlabel='Energy [TeV]', ylabel='dnde [1 / (cm2 s TeV)]'>"
      ]
     },
     "execution_count": 29,
     "metadata": {},
     "output_type": "execute_result"
    },
    {
     "data": {
      "image/png": "[encoded data removed]",
      "text/plain": [
       "<Figure size 432x288 with 1 Axes>"
      ]
     },
     "metadata": {
      "needs_background": "light"
     },
     "output_type": "display_data"
    }
   ],
   "source": [
    "# Checking the shape of the created model for one of the intervals \n",
    "non_absorbed[16].plot(energy_bounds=(0.03,15)*u.TeV)"
   ]
  },
  {
   "cell_type": "code",
   "execution_count": 30,
   "id": "7add7141",
   "metadata": {
    "id": "7add7141",
    "outputId": "967b5cbf-8e1f-4de4-bf99-6ff4105eab40"
   },
   "outputs": [
    {
     "name": "stdout",
     "output_type": "stream",
     "text": [
      "redshift: 0.077\n",
      "Isotropic equivalent energy : 4.9e+48\n"
     ]
    }
   ],
   "source": [
    "print (f'redshift: {hdr[\"REDSHIFT\"]}')\n",
    "print (f'Isotropic equivalent energy : {hdr[\"EISO\"]}')"
   ]
  },
  {
   "cell_type": "markdown",
   "id": "597affe5",
   "metadata": {
    "id": "597affe5"
   },
   "source": [
    "# Reading visibility from tables\n"
   ]
  },
  {
   "cell_type": "code",
   "execution_count": 31,
   "id": "0d25d117",
   "metadata": {
    "id": "0d25d117"
   },
   "outputs": [],
   "source": [
    "table = f'visibility/vistable.run{run}_ID{ID}.no.Moon.Th24.npy'\n",
    "data = np.load(table, allow_pickle=True, encoding='latin1', fix_imports=True).flat[0]\n",
    "events = list(data.keys())\n",
    "sites = list(data[events[0]].keys())"
   ]
  },
  {
   "cell_type": "markdown",
   "id": "f954f31a",
   "metadata": {
    "id": "f954f31a"
   },
   "source": [
    "Currently the fits file contains 10 nights of simulation for each event. We don't expect a GRB to be observable for such a long time. A switch will be added to stop observations after a certain time. Right now 3 nights can be considered a reasonable time (because of second the grb observed by HESS, must check again its name)"
   ]
  },
  {
   "cell_type": "code",
   "execution_count": 32,
   "id": "bfea34e1",
   "metadata": {},
   "outputs": [
    {
     "data": {
      "text/plain": [
       "['North', 'South']"
      ]
     },
     "execution_count": 32,
     "metadata": {},
     "output_type": "execute_result"
    }
   ],
   "source": [
    "sites"
   ]
  },
  {
   "cell_type": "code",
   "execution_count": 33,
   "id": "9b05a287",
   "metadata": {
    "id": "9b05a287",
    "outputId": "d11bedff-5ca5-47bd-9cb7-daf4114bda5e",
    "scrolled": false
   },
   "outputs": [
    {
     "data": {
      "text/plain": [
       "{'North': {'night01': {'start': 2457644.36107101,\n",
       "   'stop': 2457644.73238689,\n",
       "   'irfs': {'start': array([2457644.46353388, 2457644.53472842, 2457644.62956379]),\n",
       "    'stop': array([2457644.53472842, 2457644.62956379, 2457644.70232072]),\n",
       "    'zref': array([60, 40, 60])}},\n",
       "  'night02': {'start': 2457645.36058993,\n",
       "   'stop': 2457645.73274611,\n",
       "   'irfs': {'start': array([2457645.46080221, 2457645.53106448, 2457645.62691839]),\n",
       "    'stop': array([2457645.53106448, 2457645.62691839, 2457645.69974715]),\n",
       "    'zref': array([60, 40, 60])}},\n",
       "  'night03': {'start': 2457646.3597282,\n",
       "   'stop': 2457646.73352988,\n",
       "   'irfs': {'start': array([2457646.45804542, 2457646.52702445, 2457646.62441066]),\n",
       "    'stop': array([2457646.52702445, 2457646.62441066, 2457646.6972245 ]),\n",
       "    'zref': array([60, 40, 60])}},\n",
       "  'night04': {'start': 2457647.35805707,\n",
       "   'stop': 2457647.7344233,\n",
       "   'irfs': {'start': array([2457647.45528214, 2457647.52421536, 2457647.62199088]),\n",
       "    'stop': array([2457647.52421536, 2457647.62199088, 2457647.69473492]),\n",
       "    'zref': array([60, 40, 60])}},\n",
       "  'night05': {'start': 2457648.35729068,\n",
       "   'stop': 2457648.73437658,\n",
       "   'irfs': {'start': array([2457648.45246928, 2457648.52203252, 2457648.61962864]),\n",
       "    'stop': array([2457648.52203252, 2457648.61962864, 2457648.69215072]),\n",
       "    'zref': array([60, 40, 60])}},\n",
       "  'night06': {'start': 2457649.35678791,\n",
       "   'stop': 2457649.73448134,\n",
       "   'irfs': {'start': array([2457649.44960864, 2457649.51987344, 2457649.61736021]),\n",
       "    'stop': array([2457649.51987344, 2457649.61736021, 2457649.6890893 ]),\n",
       "    'zref': array([60, 40, 60])}},\n",
       "  'night07': {'start': 2457650.35600748,\n",
       "   'stop': 2457650.73511201,\n",
       "   'irfs': {'start': array([2457650.4467151 , 2457650.51770135, 2457650.6151978 ]),\n",
       "    'stop': array([2457650.51770135, 2457650.6151978 , 2457650.68605847]),\n",
       "    'zref': array([60, 40, 60])}},\n",
       "  'night08': {'start': 2457651.35459649,\n",
       "   'stop': 2457651.73591137,\n",
       "   'irfs': {'start': array([2457651.44382431, 2457651.5154431 , 2457651.61306981]),\n",
       "    'stop': array([2457651.5154431 , 2457651.61306981, 2457651.68310006]),\n",
       "    'zref': array([60, 40, 60])}},\n",
       "  'night09': {'start': 2457652.3535816,\n",
       "   'stop': 2457652.73639554,\n",
       "   'irfs': {'start': array([2457652.4408727 , 2457652.51316067, 2457652.61097244]),\n",
       "    'stop': array([2457652.51316067, 2457652.61097244, 2457652.68022622]),\n",
       "    'zref': array([60, 40, 60])}}},\n",
       " 'South': {'night01': {'start': 2457644.49332437,\n",
       "   'stop': 2457644.89189342,\n",
       "   'irfs': {'start': array([2457644.52651907, 2457644.56400672, 2457644.62860701,\n",
       "           2457644.82797826]),\n",
       "    'stop': array([2457644.56400672, 2457644.62860701, 2457644.82797826,\n",
       "           2457644.89189342]),\n",
       "    'zref': array([60, 40, 20, 40])}},\n",
       "  'night02': {'start': 2457645.49329102,\n",
       "   'stop': 2457645.891293,\n",
       "   'irfs': {'start': array([2457645.52377671, 2457645.56127556, 2457645.62587969,\n",
       "           2457645.82524973]),\n",
       "    'stop': array([2457645.56127556, 2457645.62587969, 2457645.82524973,\n",
       "           2457645.891293  ]),\n",
       "    'zref': array([60, 40, 20, 40])}},\n",
       "  'night03': {'start': 2457646.4936589,\n",
       "   'stop': 2457646.89064493,\n",
       "   'irfs': {'start': array([2457646.52103818, 2457646.55854732, 2457646.6231398 ,\n",
       "           2457646.82252049]),\n",
       "    'stop': array([2457646.55854732, 2457646.6231398 , 2457646.82252049,\n",
       "           2457646.89064493]),\n",
       "    'zref': array([60, 40, 20, 40])}},\n",
       "  'night04': {'start': 2457647.49410155,\n",
       "   'stop': 2457647.88952652,\n",
       "   'irfs': {'start': array([2457647.51830526, 2457647.55582211, 2457647.62040222,\n",
       "           2457647.81979041]),\n",
       "    'stop': array([2457647.55582211, 2457647.62040222, 2457647.81979041,\n",
       "           2457647.88952652]),\n",
       "    'zref': array([60, 40, 20, 40])}},\n",
       "  'night05': {'start': 2457648.49444841,\n",
       "   'stop': 2457648.88877396,\n",
       "   'irfs': {'start': array([2457648.51557704, 2457648.55309927, 2457648.61766626,\n",
       "           2457648.81705975]),\n",
       "    'stop': array([2457648.55309927, 2457648.61766626, 2457648.81705975,\n",
       "           2457648.88877396]),\n",
       "    'zref': array([60, 40, 20, 40])}},\n",
       "  'night06': {'start': 2457649.49443772,\n",
       "   'stop': 2457649.88817993,\n",
       "   'irfs': {'start': array([2457649.51285217, 2457649.55037764, 2457649.61493215,\n",
       "           2457649.81432829]),\n",
       "    'stop': array([2457649.55037764, 2457649.61493215, 2457649.81432829,\n",
       "           2457649.88817993]),\n",
       "    'zref': array([60, 40, 20, 40])}},\n",
       "  'night07': {'start': 2457650.49468796,\n",
       "   'stop': 2457650.88759663,\n",
       "   'irfs': {'start': array([2457650.51013182, 2457650.54765891, 2457650.61219927,\n",
       "           2457650.81159578]),\n",
       "    'stop': array([2457650.54765891, 2457650.61219927, 2457650.81159578,\n",
       "           2457650.88759663]),\n",
       "    'zref': array([60, 40, 20, 40])}},\n",
       "  'night08': {'start': 2457651.49518682,\n",
       "   'stop': 2457651.88643479,\n",
       "   'irfs': {'start': array([2457651.50741681, 2457651.54494305, 2457651.60946792,\n",
       "           2457651.80886274]),\n",
       "    'stop': array([2457651.54494305, 2457651.60946792, 2457651.80886274,\n",
       "           2457651.88643479]),\n",
       "    'zref': array([60, 40, 20, 40])}},\n",
       "  'night09': {'start': 2457652.49562305,\n",
       "   'stop': 2457652.88559181,\n",
       "   'irfs': {'start': array([2457652.50470534, 2457652.54222906, 2457652.60673779,\n",
       "           2457652.80612851]),\n",
       "    'stop': array([2457652.54222906, 2457652.60673779, 2457652.80612851,\n",
       "           2457652.88559181]),\n",
       "    'zref': array([60, 40, 20, 40])}}}}"
      ]
     },
     "execution_count": 33,
     "metadata": {},
     "output_type": "execute_result"
    }
   ],
   "source": [
    "data[event_id]"
   ]
  },
  {
   "cell_type": "code",
   "execution_count": 34,
   "id": "feb1f7b7",
   "metadata": {
    "id": "feb1f7b7",
    "outputId": "9950a076-e3f3-47fb-a72a-051fdb2616d6"
   },
   "outputs": [
    {
     "data": {
      "text/plain": [
       "'2016-09-12T20:39:56.535'"
      ]
     },
     "execution_count": 34,
     "metadata": {},
     "output_type": "execute_result"
    }
   ],
   "source": [
    "s=Time(data[event_id]['North']['night01']['start']*u.day,format='jd')\n",
    "s.isot"
   ]
  },
  {
   "cell_type": "code",
   "execution_count": 35,
   "id": "cafe6933",
   "metadata": {
    "id": "cafe6933"
   },
   "outputs": [],
   "source": [
    "# Defining the livetime for each time interval\n",
    "lvtm=[]\n",
    "lvtm.append(grb_tval[0])\n",
    "for i in range(1,len(grb_tval)):\n",
    "    lvtm.append(grb_tval[i]-grb_tval[i-1])\n"
   ]
  },
  {
   "cell_type": "code",
   "execution_count": 36,
   "id": "24ff2db3",
   "metadata": {
    "id": "24ff2db3"
   },
   "outputs": [],
   "source": [
    "# Function used to select the apprpriate irf according to the GRB zenith \n",
    "\n",
    "def irf_selection(site,z,delta_t):\n",
    "    if delta_t < 94.9 * 60:   #times are converted in SECONDS\n",
    "        irf_duration = '0.5h'\n",
    "    elif 94.9 * 60 < delta_t < 15.8 * 60 * 60:\n",
    "        irf_duration = '5h'\n",
    "    elif delta_t > 15.8 * 60 * 60:\n",
    "        irf_duration = '50h'\n",
    "\n",
    "    if z == 60:\n",
    "        energy = 0.110          #energies are in TeV\n",
    "        #sim_e_max = 5.6234\n",
    "\n",
    "    elif z == 40:\n",
    "        energy = 0.04\n",
    "        #sim_e_max = 5.6234\n",
    "    else:\n",
    "        energy = 0.03\n",
    "        #sim_e_max = 10.\n",
    "\n",
    "\n",
    "    name = (f'{site}_z{z}_{irf_duration}')\n",
    "    return [name , energy]\n"
   ]
  },
  {
   "cell_type": "code",
   "execution_count": 37,
   "id": "87ff8e4f",
   "metadata": {
    "id": "87ff8e4f",
    "outputId": "7f3b6a2b-b551-4737-84d7-6b8d5054b007"
   },
   "outputs": [
    {
     "data": {
      "text/plain": [
       "2457643.918113426"
      ]
     },
     "execution_count": 37,
     "metadata": {},
     "output_type": "execute_result"
    }
   ],
   "source": [
    "observation_onset = (Time(df['Observation_Time_UTC'][ii], scale='utc' ,format='isot') - df['Delay[s]'][ii]*u.s).jd  #  No delayt condition \n",
    "#observation_onset = Time(df['Observation_Time_UTC'][10], scale='utc' ,format='isot')\n",
    "observation_onset"
   ]
  },
  {
   "cell_type": "code",
   "execution_count": 38,
   "id": "dee7e191",
   "metadata": {
    "id": "dee7e191",
    "outputId": "f147d0dc-2546-44c2-ffd3-91bdc110d959"
   },
   "outputs": [
    {
     "data": {
      "text/plain": [
       "2457643.918113426"
      ]
     },
     "execution_count": 38,
     "metadata": {},
     "output_type": "execute_result"
    }
   ],
   "source": [
    "observation_onset"
   ]
  },
  {
   "cell_type": "code",
   "execution_count": 39,
   "id": "b230385c",
   "metadata": {
    "id": "b230385c",
    "outputId": "94aa15a3-e89d-450e-fedb-3a1c95d595aa"
   },
   "outputs": [
    {
     "data": {
      "text/plain": [
       "0.0"
      ]
     },
     "execution_count": 39,
     "metadata": {},
     "output_type": "execute_result"
    }
   ],
   "source": [
    "#observation_onset=observation_onset.jd\n",
    "observation_onset-trigger"
   ]
  },
  {
   "cell_type": "code",
   "execution_count": 40,
   "id": "1968a1fa",
   "metadata": {
    "id": "1968a1fa"
   },
   "outputs": [],
   "source": [
    "duration = 0 #df['Duration[s]'][ii]#seconds, 0 means take whole duration"
   ]
  },
  {
   "cell_type": "code",
   "execution_count": 41,
   "id": "749b11a4",
   "metadata": {
    "id": "749b11a4"
   },
   "outputs": [],
   "source": [
    "start=[]\n",
    "stop=[]\n",
    "z=[]\n",
    "models=[]\n",
    "for event in events:\n",
    "    #print (event)\n",
    "    if event == event_id:\n",
    "        \n",
    "        for site in sites:\n",
    "            if site == df.Observatory[0]:\n",
    "                \n",
    "                for night in data[event][site].keys():\n",
    "                    if night == 'night01':  # I could also simulate all 10 nights \n",
    "                                            # but would not make sense, and would take really ong\n",
    "                        # start of visibility interval \n",
    "                        \n",
    "                        #print((data[event][site][night]['irfs']['start'][0]  - trigger)*86400)\n",
    "                        if observation_onset == trigger : \n",
    "                            t_obs_start = data[event][site][night]['irfs']['start'][0] \n",
    "                            \n",
    "                        else:\n",
    "                            t_obs_start = observation_onset\n",
    "                        \n",
    "                        t_obs_start =(t_obs_start - trigger)*86400\n",
    "                        \n",
    "                        #print('got_here!')\n",
    "                        # stop of visibility interval \n",
    "                        if duration == 0:\n",
    "                            t_night_stop = data[event][site][night]['irfs']['stop'][-1]\n",
    "                            t_night_stop = (t_night_stop - trigger)*86400\n",
    "                        else:\n",
    "                            \n",
    "                            t_night_stop = t_obs_start + duration\n",
    "                        #print('t_night_stop:', t_night_stop)\n",
    "                        \n",
    "                        #print (t_night_stop - t_obs_start)\n",
    "                        \n",
    "                        #  ---------------\n",
    "                        t_obs_stop = t_night_stop\n",
    "                            \n",
    "                        # define simulation intervals                        \n",
    "                        \n",
    "                        \n",
    "                        for j in range(len(lvtm)-1):\n",
    "                            #if j==0:\n",
    "\n",
    "                                for i in range(len(data[event][site][night]['irfs']['zref'])):\n",
    "                                    #if i==0:\n",
    "\n",
    "\n",
    "                                        #-----------------SIMULATION TIMES\n",
    "                                        t_min = data[event][site][night]['irfs'][\"start\"][i]\n",
    "                                        t_max = data[event][site][night]['irfs'][\"stop\"][i]\n",
    "                                        zenith=data[event][site][night]['irfs'][\"zref\"][i]\n",
    "                                        #print(t_max)\n",
    "                                        # converting times from jd to seconds from trigger\n",
    "                                        if t_max == -9.0:\n",
    "                                            continue\n",
    "                                            \n",
    "                                            \n",
    "                                        #print('GOT HERE')\n",
    "                                        t_min = (t_min - trigger) * 86400\n",
    "                                        t_max = (t_max - trigger) * 86400\n",
    "\n",
    "                                        #print(zenith_angle, t_min, t_max)\n",
    "                                        if grb_tval[j+1].value < t_obs_start:\n",
    "                                            continue\n",
    "\n",
    "                                        t_slice_start = grb_tval[j].value \n",
    "\n",
    "                                        if t_slice_start < t_obs_start:\n",
    "                                            t_slice_start = t_obs_start\n",
    "\n",
    "                                        #print('t_slice_start:', t_slice_start)\n",
    "\n",
    "                                        if t_obs_stop - t_slice_start <= 0:\n",
    "                                            break\n",
    "\n",
    "                                        t_slice_stop  = grb_tval[j+1].value   \n",
    "                                        #print('t_slice_stop:', t_slice_stop)\n",
    "                                        #print('t_max:',t_max)\n",
    "\n",
    "                                        if t_slice_stop <= t_min:\n",
    "                                            #print ('ok')\n",
    "                                            continue\n",
    "\n",
    "                                        #print(t_slice_start, t_max)\n",
    "                                        if t_slice_start >= t_max:\n",
    "                                            continue\n",
    "                                        #print('got_here')\n",
    "\n",
    "                                        t_slice_start= max(t_slice_start, t_min)\n",
    "                                        t_slice_stop = min (t_slice_stop, t_max)\n",
    "                                        #print(j,t_slice_start,t_slice_stop, t_slice_stop-t_slice_start)\n",
    "\n",
    "\n",
    "                                        if t_slice_stop >= t_obs_stop:\n",
    "                                            t_slice_stop = t_obs_stop\n",
    "\n",
    "\n",
    "                                        start.append(t_slice_start)\n",
    "                                        stop.append(t_slice_stop)\n",
    "                                        z.append(zenith)\n",
    "                                        #print(night,t_slice_start,t_slice_stop,zenith)"
   ]
  },
  {
   "cell_type": "code",
   "execution_count": 42,
   "id": "fc0db549",
   "metadata": {
    "id": "fc0db549",
    "outputId": "0da02e45-f181-42ac-ec57-e895fda21555"
   },
   "outputs": [
    {
     "data": {
      "text/plain": [
       "[52566.24764800072,\n",
       " 55805.180633068085,\n",
       " 61386.64567172527,\n",
       " 63095.734,\n",
       " 78612.32166141272,\n",
       " 79432.82]"
      ]
     },
     "execution_count": 42,
     "metadata": {},
     "output_type": "execute_result"
    }
   ],
   "source": [
    "start"
   ]
  },
  {
   "cell_type": "code",
   "execution_count": 43,
   "id": "bd109d09",
   "metadata": {
    "id": "bd109d09",
    "outputId": "3c426c55-e1c5-4c5c-9c0f-211dedb5a62d"
   },
   "outputs": [
    {
     "data": {
      "text/plain": [
       "[60, 40, 20, 20, 40, 40]"
      ]
     },
     "execution_count": 43,
     "metadata": {},
     "output_type": "execute_result"
    }
   ],
   "source": [
    "if len(start)==0:\n",
    "    start.append(df['Delay[s]'][ii])\n",
    "    stop.append(df['Delay[s]'][ii] + df['Duration[s]'][ii])\n",
    "    if df['ZenIni[deg]'][ii]<33:\n",
    "        zd=20\n",
    "    elif df['ZenIni[deg]'][ii]>33 and df['ZenIni[deg]'][ii]< 54:\n",
    "        zd=40\n",
    "    elif df['ZenIni[deg]'][ii]>54 and df['ZenIni[deg]'][ii]< 80:\n",
    "        zd=60\n",
    "    z.append(zd)\n",
    "z"
   ]
  },
  {
   "cell_type": "code",
   "execution_count": 44,
   "id": "bd2b2010",
   "metadata": {
    "id": "bd2b2010"
   },
   "outputs": [],
   "source": [
    "# spatial model\n",
    "spatial_model=PointSpatialModel(lon_0=grb_radec.ra, lat_0=grb_radec.dec, frame=\"icrs\")"
   ]
  },
  {
   "cell_type": "code",
   "execution_count": 45,
   "id": "2e7cb778",
   "metadata": {
    "id": "2e7cb778",
    "outputId": "197e84e2-a348-433f-b551-3e1b3f01700b"
   },
   "outputs": [
    {
     "name": "stdout",
     "output_type": "stream",
     "text": [
      "[52566.24764800072, 55805.180633068085, 61386.64567172527, 63095.734, 78612.32166141272, 79432.82]\n"
     ]
    }
   ],
   "source": [
    "# spectral models\n",
    "for i in range(len(start)):\n",
    "    for j in range(len(grb_tval)-1):\n",
    "        \n",
    "        if stop[i] <= grb_tval[j+1].value and start[i]>=grb_tval[j].value:\n",
    "            \n",
    "            model = SkyModel(spectral_model=non_absorbed[i],spatial_model=spatial_model, name=f\"{event_id}\")\n",
    "            models.append (model)\n",
    "\n",
    "print(start)"
   ]
  },
  {
   "cell_type": "code",
   "execution_count": 46,
   "id": "dc537357",
   "metadata": {
    "id": "dc537357",
    "outputId": "40c6c2c2-5a95-483c-ec0c-903657640ade"
   },
   "outputs": [
    {
     "name": "stdout",
     "output_type": "stream",
     "text": [
      "6\n",
      "6\n"
     ]
    }
   ],
   "source": [
    "print(len(start))\n",
    "print(len(models))"
   ]
  },
  {
   "cell_type": "code",
   "execution_count": 47,
   "id": "66a10fbe",
   "metadata": {
    "id": "66a10fbe"
   },
   "outputs": [],
   "source": [
    "name_irf=[]\n",
    "sim_e_min=[]"
   ]
  },
  {
   "cell_type": "code",
   "execution_count": 48,
   "id": "b23e8f18",
   "metadata": {
    "id": "b23e8f18",
    "outputId": "eca46646-885c-4720-b15d-6df531e66250"
   },
   "outputs": [
    {
     "name": "stdout",
     "output_type": "stream",
     "text": [
      "['North_z60_5h', 'North_z40_5h', 'North_z20_5h', 'North_z20_5h', 'North_z40_5h', 'North_z40_5h']\n"
     ]
    }
   ],
   "source": [
    "for event in events:\n",
    "    if event == event_id:\n",
    "        for site in sites:\n",
    "            if site == 'North':\n",
    "                first_night_start = data[event][site]['night01']['irfs']['start'][0]\n",
    "                first_night_start  = (first_night_start - trigger)*86400\n",
    "                for i in range(len(start)):\n",
    "                    t_start=start[i]\n",
    "                    t_stop = stop[i]\n",
    "                    zenith_angle = z[i]\n",
    "                    # ----------------------------------------time selection for IRF\n",
    "                    delta_t_irf = t_stop - first_night_start\n",
    "                    #print(delta_t_irf)\n",
    "                    name_irf.append(irf_selection(site, zenith_angle, delta_t_irf)[0])\n",
    "                    sim_e_min.append(irf_selection(site, zenith_angle, delta_t_irf)[1])\n",
    "                    \n",
    "print(name_irf)"
   ]
  },
  {
   "cell_type": "markdown",
   "id": "e9c8bdb2",
   "metadata": {
    "id": "e9c8bdb2"
   },
   "source": [
    "# Spectrum simulation"
   ]
  },
  {
   "cell_type": "code",
   "execution_count": 49,
   "id": "905f73dd",
   "metadata": {
    "id": "905f73dd",
    "outputId": "ac1b9e0d-8758-4fce-f593-ea1a3b8042de"
   },
   "outputs": [
    {
     "name": "stdout",
     "output_type": "stream",
     "text": [
      "6\n"
     ]
    }
   ],
   "source": [
    "#select IRF according to observational conditions\n",
    "import os\n",
    "irfs=[]\n",
    "for i in range(len(name_irf)):\n",
    "    path = f\"$CALDB/{name_irf[i]}\"\n",
    "# iterate through all file\n",
    "    if '$' in path:\n",
    "        path= os.path.expandvars(path)\n",
    "    for file in os.listdir(path):\n",
    "        # Check whether file is in text format or not\n",
    "        if file.endswith(\".gz\"):\n",
    "            file_path = f\"{path}/{file}\"\n",
    "    irfs.append(load_cta_irfs(file_path))\n",
    "print(len(irfs))"
   ]
  },
  {
   "cell_type": "code",
   "execution_count": 50,
   "id": "68823bf1",
   "metadata": {
    "id": "68823bf1"
   },
   "outputs": [],
   "source": [
    "# containment=0.68"
   ]
  },
  {
   "cell_type": "code",
   "execution_count": 51,
   "id": "3f7095d7",
   "metadata": {
    "id": "3f7095d7"
   },
   "outputs": [],
   "source": [
    "n_obs = len(start)"
   ]
  },
  {
   "cell_type": "code",
   "execution_count": 52,
   "id": "4e1affb6",
   "metadata": {
    "id": "4e1affb6"
   },
   "outputs": [],
   "source": [
    "# from SoHappy\n",
    "maker=[]\n",
    "empty=[]\n",
    "events=[]\n",
    "erec_edges = np.asarray([3.00000000e+01, # LST 20°\n",
    "                        #3.16227766e+01, # too close fro previous edge\n",
    "                        4.00000000e+01, # LST 40°\n",
    "                        5.62341325e+01,\n",
    "                        #1.00000000e+02, # too close from next edge\n",
    "                        1.10000000e+02, # LST 60, MST 20° and 40°\n",
    "                        # 1.77827941e+02,  # too close from next edge\n",
    "                        2.0e+02, # too close from next edge\n",
    "                        #2.5e+02, # MST 60°\n",
    "                        3.16227766e+02,\n",
    "                        5.62341325e+02,\n",
    "                        1.00000000e+03,\n",
    "                        1.77827941e+03,\n",
    "                        3.16227766e+03,\n",
    "                        5.62341325e+03,\n",
    "                        1.00000000e+04])*u.GeV\n",
    "                        #1.5e+04])*u.GeV\n"
   ]
  },
  {
   "cell_type": "code",
   "execution_count": 53,
   "id": "2b3537de",
   "metadata": {},
   "outputs": [
    {
     "data": {
      "text/plain": [
       "12"
      ]
     },
     "execution_count": 53,
     "metadata": {},
     "output_type": "execute_result"
    }
   ],
   "source": [
    "len(erec_edges)"
   ]
  },
  {
   "cell_type": "code",
   "execution_count": 54,
   "id": "5c2144b1",
   "metadata": {
    "id": "5c2144b1",
    "outputId": "69682db1-d1a9-414f-a3ad-0d6e5f59a6ce"
   },
   "outputs": [
    {
     "name": "stdout",
     "output_type": "stream",
     "text": [
      "[0.11, 0.04, 0.03, 0.03, 0.04, 0.04]\n"
     ]
    }
   ],
   "source": [
    "print(sim_e_min)"
   ]
  },
  {
   "cell_type": "code",
   "execution_count": 55,
   "id": "00ac7250",
   "metadata": {
    "id": "00ac7250"
   },
   "outputs": [],
   "source": [
    "energy_axis      = MapAxis.from_edges(erec_edges.to(\"TeV\").value,\n",
    "                                       unit=\"TeV\",\n",
    "                                       name=\"energy\",\n",
    "                                       interp=\"log\")\n",
    "\n",
    "\n",
    "energy_axis_true  = MapAxis.from_energy_bounds(0.015*u.TeV,\n",
    "                                                 20.0*u.TeV,\n",
    "                                                 nbin = 24,\n",
    "                                                 per_decade=True,\n",
    "                                                 name=\"energy_true\")\n",
    "\n",
    "migra_axis = MapAxis.from_bounds(\n",
    "    0.5, 2, nbin=150, node_type=\"edges\", name=\"migra\"\n",
    "    )\n",
    "\n",
    "\n",
    "geom              = WcsGeom.create(skydir=pointing,\n",
    "                                    binsz=0.02,\n",
    "                                    width=(2, 2),\n",
    "                                    frame=\"icrs\",\n",
    "                                    axes=[energy_axis])"
   ]
  },
  {
   "cell_type": "code",
   "execution_count": 57,
   "id": "1670f070",
   "metadata": {
    "id": "1670f070",
    "outputId": "794e5a07-1fd8-4f0e-bf52-d62cdde32764"
   },
   "outputs": [
    {
     "name": "stdout",
     "output_type": "stream",
     "text": [
      "0\n",
      "1\n"
     ]
    },
    {
     "name": "stderr",
     "output_type": "stream",
     "text": [
      "WARNING: MergeConflictWarning: Cannot merge meta key 'OBS_ID' types <class 'int'> and <class 'int'>, choosing OBS_ID=1 [astropy.utils.metadata]\n",
      "WARNING: MergeConflictWarning: Cannot merge meta key 'TSTOP' types <class 'numpy.float64'> and <class 'numpy.float64'>, choosing TSTOP=5581.465038657188 [astropy.utils.metadata]\n",
      "WARNING: MergeConflictWarning: Cannot merge meta key 'ONTIME' types <class 'numpy.float64'> and <class 'numpy.float64'>, choosing ONTIME=5581.465038657188 [astropy.utils.metadata]\n",
      "WARNING: MergeConflictWarning: Cannot merge meta key 'LIVETIME' types <class 'numpy.float64'> and <class 'numpy.float64'>, choosing LIVETIME=5581.465038657188 [astropy.utils.metadata]\n",
      "WARNING: MergeConflictWarning: Cannot merge meta key 'TELAPSE' types <class 'numpy.float64'> and <class 'numpy.float64'>, choosing TELAPSE=5581.465038657188 [astropy.utils.metadata]\n",
      "WARNING: MergeConflictWarning: Cannot merge meta key 'MJDREFF' types <class 'numpy.float64'> and <class 'numpy.float64'>, choosing MJDREFF=0.06479588687216165 [astropy.utils.metadata]\n",
      "WARNING: MergeConflictWarning: Cannot merge meta key 'ALT_PNT' types <class 'str'> and <class 'str'>, choosing ALT_PNT='36.16365694245441' [astropy.utils.metadata]\n",
      "WARNING: MergeConflictWarning: Cannot merge meta key 'AZ_PNT' types <class 'str'> and <class 'str'>, choosing AZ_PNT='100.9232386580695' [astropy.utils.metadata]\n"
     ]
    },
    {
     "name": "stdout",
     "output_type": "stream",
     "text": [
      "2\n"
     ]
    },
    {
     "name": "stderr",
     "output_type": "stream",
     "text": [
      "WARNING: MergeConflictWarning: Cannot merge meta key 'OBS_ID' types <class 'int'> and <class 'int'>, choosing OBS_ID=2 [astropy.utils.metadata]\n",
      "WARNING: MergeConflictWarning: Cannot merge meta key 'TSTOP' types <class 'numpy.float64'> and <class 'numpy.float64'>, choosing TSTOP=1709.08870305866 [astropy.utils.metadata]\n",
      "WARNING: MergeConflictWarning: Cannot merge meta key 'ONTIME' types <class 'numpy.float64'> and <class 'numpy.float64'>, choosing ONTIME=1709.088703274727 [astropy.utils.metadata]\n",
      "WARNING: MergeConflictWarning: Cannot merge meta key 'LIVETIME' types <class 'numpy.float64'> and <class 'numpy.float64'>, choosing LIVETIME=1709.088703274727 [astropy.utils.metadata]\n",
      "WARNING: MergeConflictWarning: Cannot merge meta key 'TELAPSE' types <class 'numpy.float64'> and <class 'numpy.float64'>, choosing TELAPSE=1709.088703274727 [astropy.utils.metadata]\n",
      "WARNING: MergeConflictWarning: Cannot merge meta key 'MJDREFF' types <class 'numpy.float64'> and <class 'numpy.float64'>, choosing MJDREFF=0.12939617667143466 [astropy.utils.metadata]\n",
      "WARNING: MergeConflictWarning: Cannot merge meta key 'ALT_PNT' types <class 'str'> and <class 'str'>, choosing ALT_PNT='57.15787594684119' [astropy.utils.metadata]\n",
      "WARNING: MergeConflictWarning: Cannot merge meta key 'AZ_PNT' types <class 'str'> and <class 'str'>, choosing AZ_PNT='94.02340592030632' [astropy.utils.metadata]\n"
     ]
    },
    {
     "name": "stdout",
     "output_type": "stream",
     "text": [
      "3\n"
     ]
    },
    {
     "name": "stderr",
     "output_type": "stream",
     "text": [
      "WARNING: MergeConflictWarning: Cannot merge meta key 'OBS_ID' types <class 'int'> and <class 'int'>, choosing OBS_ID=3 [astropy.utils.metadata]\n",
      "WARNING: MergeConflictWarning: Cannot merge meta key 'TSTOP' types <class 'numpy.float64'> and <class 'numpy.float64'>, choosing TSTOP=15516.587286628783 [astropy.utils.metadata]\n",
      "WARNING: MergeConflictWarning: Cannot merge meta key 'ONTIME' types <class 'numpy.float64'> and <class 'numpy.float64'>, choosing ONTIME=15516.587286412716 [astropy.utils.metadata]\n",
      "WARNING: MergeConflictWarning: Cannot merge meta key 'LIVETIME' types <class 'numpy.float64'> and <class 'numpy.float64'>, choosing LIVETIME=15516.587286412716 [astropy.utils.metadata]\n",
      "WARNING: MergeConflictWarning: Cannot merge meta key 'TELAPSE' types <class 'numpy.float64'> and <class 'numpy.float64'>, choosing TELAPSE=15516.587286412716 [astropy.utils.metadata]\n",
      "WARNING: MergeConflictWarning: Cannot merge meta key 'MJDREFF' types <class 'numpy.float64'> and <class 'numpy.float64'>, choosing MJDREFF=0.14917729591979878 [astropy.utils.metadata]\n",
      "WARNING: MergeConflictWarning: Cannot merge meta key 'ALT_PNT' types <class 'str'> and <class 'str'>, choosing ALT_PNT='63.637677549631675' [astropy.utils.metadata]\n",
      "WARNING: MergeConflictWarning: Cannot merge meta key 'AZ_PNT' types <class 'str'> and <class 'str'>, choosing AZ_PNT='91.59888452478896' [astropy.utils.metadata]\n"
     ]
    },
    {
     "name": "stdout",
     "output_type": "stream",
     "text": [
      "4\n"
     ]
    },
    {
     "name": "stderr",
     "output_type": "stream",
     "text": [
      "WARNING: MergeConflictWarning: Cannot merge meta key 'OBS_ID' types <class 'int'> and <class 'int'>, choosing OBS_ID=4 [astropy.utils.metadata]\n",
      "WARNING: MergeConflictWarning: Cannot merge meta key 'TSTOP' types <class 'numpy.float64'> and <class 'numpy.float64'>, choosing TSTOP=820.4986513126642 [astropy.utils.metadata]\n",
      "WARNING: MergeConflictWarning: Cannot merge meta key 'ONTIME' types <class 'numpy.float64'> and <class 'numpy.float64'>, choosing ONTIME=820.4986510872828 [astropy.utils.metadata]\n",
      "WARNING: MergeConflictWarning: Cannot merge meta key 'LIVETIME' types <class 'numpy.float64'> and <class 'numpy.float64'>, choosing LIVETIME=820.4986510872828 [astropy.utils.metadata]\n",
      "WARNING: MergeConflictWarning: Cannot merge meta key 'TELAPSE' types <class 'numpy.float64'> and <class 'numpy.float64'>, choosing TELAPSE=820.4986510872828 [astropy.utils.metadata]\n",
      "WARNING: MergeConflictWarning: Cannot merge meta key 'MJDREFF' types <class 'numpy.float64'> and <class 'numpy.float64'>, choosing MJDREFF=0.32876742655207636 [astropy.utils.metadata]\n",
      "WARNING: MergeConflictWarning: Cannot merge meta key 'ALT_PNT' types <class 'str'> and <class 'str'>, choosing ALT_PNT='56.99286012297193' [astropy.utils.metadata]\n",
      "WARNING: MergeConflictWarning: Cannot merge meta key 'AZ_PNT' types <class 'str'> and <class 'str'>, choosing AZ_PNT='265.9186027628524' [astropy.utils.metadata]\n"
     ]
    },
    {
     "name": "stdout",
     "output_type": "stream",
     "text": [
      "5\n"
     ]
    },
    {
     "name": "stderr",
     "output_type": "stream",
     "text": [
      "WARNING: MergeConflictWarning: Cannot merge meta key 'OBS_ID' types <class 'int'> and <class 'int'>, choosing OBS_ID=5 [astropy.utils.metadata]\n",
      "WARNING: MergeConflictWarning: Cannot merge meta key 'TSTOP' types <class 'numpy.float64'> and <class 'numpy.float64'>, choosing TSTOP=4701.771174324676 [astropy.utils.metadata]\n",
      "WARNING: MergeConflictWarning: Cannot merge meta key 'ONTIME' types <class 'numpy.float64'> and <class 'numpy.float64'>, choosing ONTIME=4701.771174550057 [astropy.utils.metadata]\n",
      "WARNING: MergeConflictWarning: Cannot merge meta key 'LIVETIME' types <class 'numpy.float64'> and <class 'numpy.float64'>, choosing LIVETIME=4701.771174550057 [astropy.utils.metadata]\n",
      "WARNING: MergeConflictWarning: Cannot merge meta key 'TELAPSE' types <class 'numpy.float64'> and <class 'numpy.float64'>, choosing TELAPSE=4701.771174550057 [astropy.utils.metadata]\n",
      "WARNING: MergeConflictWarning: Cannot merge meta key 'MJDREFF' types <class 'numpy.float64'> and <class 'numpy.float64'>, choosing MJDREFF=0.33826393871277105 [astropy.utils.metadata]\n",
      "WARNING: MergeConflictWarning: Cannot merge meta key 'ALT_PNT' types <class 'str'> and <class 'str'>, choosing ALT_PNT='53.88814079849339' [astropy.utils.metadata]\n",
      "WARNING: MergeConflictWarning: Cannot merge meta key 'AZ_PNT' types <class 'str'> and <class 'str'>, choosing AZ_PNT='264.85062359537085' [astropy.utils.metadata]\n"
     ]
    }
   ],
   "source": [
    "#datasets = Datasets()\n",
    "# -------------------\n",
    "#stacked = MapDataset.create(geom=geom,energy_axis_true=energy_axis_true, name=event_id)\n",
    "#events=[]\n",
    "# --------------\n",
    "for idx in range(n_obs):\n",
    "    print(idx)\n",
    "    irf   = irfs[idx]\n",
    "\n",
    "    bkg_model = FoVBackgroundModel(dataset_name=f\"{event_id}\")\n",
    "\n",
    "    model = Models([models[idx], bkg_model])\n",
    " \n",
    "    \n",
    "    # -------------- cannot be moved outside cycle, it's  IRF dependent\n",
    "    eirf_min    = min(irf[\"aeff\"].axes[\"energy_true\"].edges)\n",
    "    \n",
    "    #-----------------------\n",
    "    with warnings.catch_warnings(): # because of t_trig\n",
    "        warnings.filterwarnings(\"ignore\")\n",
    "        obs = Observation.create(\n",
    "            pointing=pointing,\n",
    "            livetime=(stop[idx]-start[idx])*u.s,\n",
    "            reference_time = t_trigger+start[idx]*u.s,\n",
    "            deadtime_fraction = 0 ,\n",
    "            irfs=irf,\n",
    "            obs_id=idx)\n",
    "\n",
    "    # -----------------\n",
    "    empty = MapDataset.create(\n",
    "        geom,\n",
    "        energy_axis_true=energy_axis_true,\n",
    "        migra_axis=migra_axis,\n",
    "        name=f\"{event_id}\",\n",
    "        )\n",
    "\n",
    "    maker = MapDatasetMaker(selection=[\"exposure\", \"background\", \"psf\", \"edisp\"])\n",
    "\n",
    "    # let's create the dataset object by providing the Observation properties\n",
    "    dataset = maker.run(empty, obs)\n",
    "\n",
    "    #dataset = maker.run(empty, obs)\n",
    "    # -----------------\n",
    "    dataset.models = model\n",
    "    #-----------------------\n",
    "    sampler = MapDatasetEventSampler(random_state=0)\n",
    "    evt = sampler.run(dataset, obs)\n",
    "    if idx==0:\n",
    "        events=evt\n",
    "    else:\n",
    "        events.stack(evt)"
   ]
  },
  {
   "cell_type": "code",
   "execution_count": 58,
   "id": "762b6861",
   "metadata": {},
   "outputs": [
    {
     "data": {
      "image/png": "[encoded data removed]",
      "text/plain": [
       "<Figure size 864x576 with 5 Axes>"
      ]
     },
     "metadata": {
      "needs_background": "light"
     },
     "output_type": "display_data"
    }
   ],
   "source": [
    "events.peek()"
   ]
  },
  {
   "cell_type": "code",
   "execution_count": 69,
   "id": "1e6707eb",
   "metadata": {},
   "outputs": [
    {
     "data": {
      "image/png": "[encoded data removed]",
      "text/plain": [
       "<Figure size 432x288 with 1 Axes>"
      ]
     },
     "metadata": {
      "needs_background": "light"
     },
     "output_type": "display_data"
    }
   ],
   "source": [
    "evt.plot_image()"
   ]
  },
  {
   "cell_type": "code",
   "execution_count": 63,
   "id": "66c073e2",
   "metadata": {
    "id": "66c073e2",
    "outputId": "6dc7b19b-19dc-4248-fb0c-f99d4ecf64fd"
   },
   "outputs": [
    {
     "data": {
      "text/html": [
       "<div><i>Table length=176434</i>\n",
       "<table id=\"table140453853058384\" class=\"table-striped table-bordered table-condensed\">\n",
       "<thead><tr><th>ENERGY_TRUE</th><th>RA_TRUE</th><th>DEC_TRUE</th><th>TIME</th><th>MC_ID</th><th>ENERGY</th><th>RA</th><th>DEC</th><th>DETX</th><th>DETY</th><th>EVENT_ID</th></tr></thead>\n",
       "<thead><tr><th>TeV</th><th>deg</th><th>deg</th><th>s</th><th></th><th>TeV</th><th>deg</th><th>deg</th><th>deg</th><th>deg</th><th></th></tr></thead>\n",
       "<thead><tr><th>float64</th><th>float64</th><th>float64</th><th>float64</th><th>int64</th><th>float64</th><th>float64</th><th>float64</th><th>float64</th><th>float64</th><th>int64</th></tr></thead>\n",
       "<tr><td>0.08438590554442066</td><td>5.195470418156465</td><td>-23.41979461006558</td><td>6145.091818948276</td><td>0</td><td>0.08438590554442066</td><td>5.195470418156465</td><td>-23.41979461006558</td><td>0.9107609291536543</td><td>-0.6578468543825504</td><td>0</td></tr>\n",
       "<tr><td>0.058297571717771744</td><td>3.454943408232325</td><td>-23.254620757561423</td><td>4074.4504218455404</td><td>0</td><td>0.058297571717771744</td><td>3.454943408232325</td><td>-23.254620757561423</td><td>-0.6873062354349796</td><td>-0.49135689990520814</td><td>1</td></tr>\n",
       "<tr><td>0.04231468391165126</td><td>3.356205513992038</td><td>-22.55627598301375</td><td>232.73728305939585</td><td>0</td><td>0.04231468391165126</td><td>3.356205513992038</td><td>-22.55627598301375</td><td>-0.7820183195426367</td><td>0.20648790116548915</td><td>2</td></tr>\n",
       "<tr><td>0.1384449824925675</td><td>4.58012519058286</td><td>-23.236346434624526</td><td>1756.5136375604197</td><td>0</td><td>0.1384449824925675</td><td>4.58012519058286</td><td>-23.236346434624526</td><td>0.3465461345701682</td><td>-0.4717877513651976</td><td>3</td></tr>\n",
       "<tr><td>0.05541020264219246</td><td>4.399491800669604</td><td>-22.538310941773158</td><td>485.56517141405493</td><td>0</td><td>0.05541020264219246</td><td>4.399491800669604</td><td>-22.538310941773158</td><td>0.18148580032542524</td><td>0.22656864015222322</td><td>4</td></tr>\n",
       "<tr><td>0.04722098224017324</td><td>4.480554271978844</td><td>-22.24300698411829</td><td>4874.3085770867765</td><td>0</td><td>0.04722098224017324</td><td>4.480554271978844</td><td>-22.24300698411829</td><td>0.2569110540452399</td><td>0.5217522277907319</td><td>5</td></tr>\n",
       "<tr><td>...</td><td>...</td><td>...</td><td>...</td><td>...</td><td>...</td><td>...</td><td>...</td><td>...</td><td>...</td><td>...</td></tr>\n",
       "<tr><td>0.1736244344846664</td><td>4.198146683734661</td><td>-22.36745195065973</td><td>2813.272588304244</td><td>1</td><td>0.1477002652014975</td><td>4.164602801939906</td><td>-22.229033130755788</td><td>-0.03554503485482362</td><td>0.5359622604919762</td><td>88213</td></tr>\n",
       "<tr><td>0.03822593235643838</td><td>4.204001767475971</td><td>-22.357561621895652</td><td>5985.9144856687635</td><td>1</td><td>0.03618942663263761</td><td>4.053958169657371</td><td>-22.292333472001584</td><td>-0.13790718494038506</td><td>0.4725971215549665</td><td>88214</td></tr>\n",
       "<tr><td>0.08709082966040874</td><td>4.190406598817606</td><td>-22.364971837732956</td><td>1504.210410034284</td><td>1</td><td>0.09006452867247154</td><td>4.093373074895176</td><td>-22.419968097514335</td><td>-0.10134240159500901</td><td>0.3449943867708372</td><td>88215</td></tr>\n",
       "<tr><td>0.0627941255442539</td><td>4.222304160327302</td><td>-22.380045135940325</td><td>2533.290461800061</td><td>1</td><td>0.06056773605806144</td><td>4.2939615892068606</td><td>-22.508171525244975</td><td>0.08403342401868587</td><td>0.25680266315484884</td><td>88216</td></tr>\n",
       "<tr><td>0.062422677309707755</td><td>4.218407038733199</td><td>-22.35863458848605</td><td>2151.817762898281</td><td>1</td><td>0.059936393658696595</td><td>4.329577286988324</td><td>-22.28349524700802</td><td>0.11712848847190734</td><td>0.48145468927488555</td><td>88217</td></tr>\n",
       "<tr><td>0.06994772255513508</td><td>4.193124442846337</td><td>-22.347824146034604</td><td>3175.4800125025213</td><td>1</td><td>0.08290318058723951</td><td>4.094123891305433</td><td>-22.413613520480457</td><td>-0.10065299734472614</td><td>0.3513494742045648</td><td>88218</td></tr>\n",
       "</table></div>"
      ],
      "text/plain": [
       "<Table length=176434>\n",
       "    ENERGY_TRUE           RA_TRUE      ...         DETY         EVENT_ID\n",
       "        TeV                 deg        ...         deg                  \n",
       "      float64             float64      ...       float64         int64  \n",
       "-------------------- ----------------- ... -------------------- --------\n",
       " 0.08438590554442066 5.195470418156465 ...  -0.6578468543825504        0\n",
       "0.058297571717771744 3.454943408232325 ... -0.49135689990520814        1\n",
       " 0.04231468391165126 3.356205513992038 ...  0.20648790116548915        2\n",
       "  0.1384449824925675  4.58012519058286 ...  -0.4717877513651976        3\n",
       " 0.05541020264219246 4.399491800669604 ...  0.22656864015222322        4\n",
       " 0.04722098224017324 4.480554271978844 ...   0.5217522277907319        5\n",
       "                 ...               ... ...                  ...      ...\n",
       "  0.1736244344846664 4.198146683734661 ...   0.5359622604919762    88213\n",
       " 0.03822593235643838 4.204001767475971 ...   0.4725971215549665    88214\n",
       " 0.08709082966040874 4.190406598817606 ...   0.3449943867708372    88215\n",
       "  0.0627941255442539 4.222304160327302 ...  0.25680266315484884    88216\n",
       "0.062422677309707755 4.218407038733199 ...  0.48145468927488555    88217\n",
       " 0.06994772255513508 4.193124442846337 ...   0.3513494742045648    88218"
      ]
     },
     "execution_count": 63,
     "metadata": {},
     "output_type": "execute_result"
    }
   ],
   "source": [
    "evt.table"
   ]
  },
  {
   "cell_type": "code",
   "execution_count": 64,
   "id": "7e8c14ba",
   "metadata": {
    "id": "7e8c14ba"
   },
   "outputs": [],
   "source": [
    "spatial_model = PointSpatialModel()   #(sigma=\"0.05 deg\")\n",
    "spectral_model = PowerLawSpectralModel(index=2)\n",
    "model = SkyModel(spatial_model=spatial_model, spectral_model=spectral_model)\n"
   ]
  },
  {
   "cell_type": "code",
   "execution_count": 65,
   "id": "4367bcdd",
   "metadata": {
    "id": "4367bcdd"
   },
   "outputs": [],
   "source": [
    "ts_image_estimator = TSMapEstimator(\n",
    "    model,\n",
    "    kernel_width=\"0.5 deg\",\n",
    "    selection_optional=[],\n",
    "    downsampling_factor=2,\n",
    "    sum_over_energy_groups=False,\n",
    "    energy_edges=[0.11, 10] * u.TeV,\n",
    ")\n"
   ]
  },
  {
   "cell_type": "code",
   "execution_count": 68,
   "id": "e851653a",
   "metadata": {
    "id": "e851653a"
   },
   "outputs": [
    {
     "ename": "AttributeError",
     "evalue": "'EventList' object has no attribute 'models'",
     "output_type": "error",
     "traceback": [
      "\u001b[0;31m---------------------------------------------------------------------------\u001b[0m",
      "\u001b[0;31mAttributeError\u001b[0m                            Traceback (most recent call last)",
      "Input \u001b[0;32mIn [68]\u001b[0m, in \u001b[0;36m<cell line: 1>\u001b[0;34m()\u001b[0m\n\u001b[0;32m----> 1\u001b[0m images_ts \u001b[38;5;241m=\u001b[39m \u001b[43mts_image_estimator\u001b[49m\u001b[38;5;241;43m.\u001b[39;49m\u001b[43mrun\u001b[49m\u001b[43m(\u001b[49m\u001b[43mevt\u001b[49m\u001b[43m)\u001b[49m\n",
      "File \u001b[0;32m~/miniconda3/envs/gammapy-0.20/lib/python3.8/site-packages/gammapy/estimators/map/ts.py:460\u001b[0m, in \u001b[0;36mTSMapEstimator.run\u001b[0;34m(self, dataset)\u001b[0m\n\u001b[1;32m    436\u001b[0m \u001b[38;5;28;01mdef\u001b[39;00m \u001b[38;5;21mrun\u001b[39m(\u001b[38;5;28mself\u001b[39m, dataset):\n\u001b[1;32m    437\u001b[0m     \u001b[38;5;124;03m\"\"\"\u001b[39;00m\n\u001b[1;32m    438\u001b[0m \u001b[38;5;124;03m    Run TS map estimation.\u001b[39;00m\n\u001b[1;32m    439\u001b[0m \n\u001b[0;32m   (...)\u001b[0m\n\u001b[1;32m    458\u001b[0m \n\u001b[1;32m    459\u001b[0m \u001b[38;5;124;03m    \"\"\"\u001b[39;00m\n\u001b[0;32m--> 460\u001b[0m     dataset_models \u001b[38;5;241m=\u001b[39m \u001b[43mdataset\u001b[49m\u001b[38;5;241;43m.\u001b[39;49m\u001b[43mmodels\u001b[49m\n\u001b[1;32m    462\u001b[0m     pad_width \u001b[38;5;241m=\u001b[39m \u001b[38;5;28mself\u001b[39m\u001b[38;5;241m.\u001b[39mestimate_pad_width(dataset\u001b[38;5;241m=\u001b[39mdataset)\n\u001b[1;32m    463\u001b[0m     dataset \u001b[38;5;241m=\u001b[39m dataset\u001b[38;5;241m.\u001b[39mpad(pad_width, name\u001b[38;5;241m=\u001b[39mdataset\u001b[38;5;241m.\u001b[39mname)\n",
      "\u001b[0;31mAttributeError\u001b[0m: 'EventList' object has no attribute 'models'"
     ]
    }
   ],
   "source": [
    "images_ts = ts_image_estimator.run(evt)"
   ]
  },
  {
   "cell_type": "code",
   "execution_count": null,
   "id": "37657059",
   "metadata": {
    "id": "37657059",
    "outputId": "188ba6e9-eccc-471a-c742-fc34eb5e9e78"
   },
   "outputs": [],
   "source": [
    "sources = find_peaks(\n",
    "    images_ts[\"sqrt_ts\"],\n",
    "    threshold=5,\n",
    "    min_distance=\"0.2 deg\",\n",
    ")\n",
    "sources"
   ]
  },
  {
   "cell_type": "code",
   "execution_count": 67,
   "id": "1988b2be",
   "metadata": {
    "id": "1988b2be",
    "outputId": "e9d59d46-2ce2-4603-c97d-82660148ffbe"
   },
   "outputs": [
    {
     "ename": "NameError",
     "evalue": "name 'sources' is not defined",
     "output_type": "error",
     "traceback": [
      "\u001b[0;31m---------------------------------------------------------------------------\u001b[0m",
      "\u001b[0;31mNameError\u001b[0m                                 Traceback (most recent call last)",
      "Input \u001b[0;32mIn [67]\u001b[0m, in \u001b[0;36m<cell line: 1>\u001b[0;34m()\u001b[0m\n\u001b[0;32m----> 1\u001b[0m \u001b[38;5;28;01mif\u001b[39;00m \u001b[38;5;28mlen\u001b[39m(\u001b[43msources\u001b[49m)\u001b[38;5;241m>\u001b[39m\u001b[38;5;241m0\u001b[39m:\n\u001b[1;32m      2\u001b[0m     source_pos \u001b[38;5;241m=\u001b[39m SkyCoord(sources[\u001b[38;5;124m\"\u001b[39m\u001b[38;5;124mra\u001b[39m\u001b[38;5;124m\"\u001b[39m], sources[\u001b[38;5;124m\"\u001b[39m\u001b[38;5;124mdec\u001b[39m\u001b[38;5;124m\"\u001b[39m])\n\u001b[1;32m      3\u001b[0m     \u001b[38;5;28mprint\u001b[39m(source_pos)\n",
      "\u001b[0;31mNameError\u001b[0m: name 'sources' is not defined"
     ]
    }
   ],
   "source": [
    "if len(sources)>0:\n",
    "    source_pos = SkyCoord(sources[\"ra\"], sources[\"dec\"])\n",
    "    print(source_pos)\n",
    "    images_ts[\"sqrt_ts\"].plot(add_cbar=True)\n",
    "\n",
    "    plt.gca().scatter(\n",
    "        source_pos.ra.deg,\n",
    "        source_pos.dec.deg,\n",
    "        transform=plt.gca().get_transform(\"icrs\"),\n",
    "        color=\"none\",\n",
    "        edgecolor=\"white\",\n",
    "        marker=\"o\",\n",
    "        s=200,\n",
    "        lw=1.5,\n",
    "    );\n",
    "else:\n",
    "    print('No source detected')\n"
   ]
  },
  {
   "cell_type": "code",
   "execution_count": 70,
   "id": "7561a929",
   "metadata": {},
   "outputs": [
    {
     "name": "stdout",
     "output_type": "stream",
     "text": [
      "<SkyCoord (ICRS): (ra, dec) in deg\n",
      "    (199.121, 47.021)>\n",
      "\tAngular distance of src from camera center: 0.4872141272550985 deg\n",
      "\tPointing delay: 75767\n",
      "\tExposure time: 10\n"
     ]
    }
   ],
   "source": [
    "print(grb_radec)\n",
    "print(f'\\tAngular distance of src from camera center: {pointing.separation(grb_radec)}')\n",
    "print(f\"\\tPointing delay: {df['Delay[s]'][ii]}\")\n",
    "print(f\"\\tExposure time: {df['Duration[s]'][ii]}\")\n"
   ]
  },
  {
   "cell_type": "code",
   "execution_count": 71,
   "id": "1263b2d1",
   "metadata": {
    "id": "1263b2d1",
    "outputId": "0f05a3cc-3b5b-48f5-b996-6fc3c43feac2",
    "scrolled": false
   },
   "outputs": [
    {
     "data": {
      "image/png": "[encoded data removed]",
      "text/plain": [
       "<Figure size 720x360 with 2 Axes>"
      ]
     },
     "metadata": {
      "needs_background": "light"
     },
     "output_type": "display_data"
    }
   ],
   "source": [
    "# Plot temporal evolution of excess events and significance value\n",
    "plt.figure(figsize=(10,5))\n",
    "plt.subplot(121)\n",
    "plt.plot(\n",
    "    (table[\"livetime\"].to(\"h\")), table[\"excess\"], marker=\"o\", ls=\"none\"\n",
    ")\n",
    "plt.plot(table[\"livetime\"].to(\"h\")[-1:1], table[\"excess\"][-1:1], 'r')\n",
    "plt.xlabel(\"Livetime h\")\n",
    "plt.ylabel(\"Excess\")\n",
    "plt.grid()\n",
    "plt.title('Excess vs Livetime')\n",
    "\n",
    "plt.subplot(122)\n",
    "plt.plot(\n",
    "    (table[\"livetime\"].to(\"h\")),\n",
    "    table[\"sqrt_ts\"],\n",
    "    marker=\"o\",\n",
    "    ls=\"none\",\n",
    ")\n",
    "plt.grid()\n",
    "plt.xlabel(\"Livetime h\")\n",
    "plt.ylabel(\"sqrt_ts\")\n",
    "plt.title('Significance vs Livetime')\n",
    "plt.subplots_adjust(wspace=0.5)\n"
   ]
  }
 ],
 "metadata": {
  "colab": {
   "name": "GW_counterparts_working_checkpoint_0.20.ipynb",
   "provenance": []
  },
  "kernelspec": {
   "display_name": "Python 3 (ipykernel)",
   "language": "python",
   "name": "python3"
  },
  "language_info": {
   "codemirror_mode": {
    "name": "ipython",
    "version": 3
   },
   "file_extension": ".py",
   "mimetype": "text/x-python",
   "name": "python",
   "nbconvert_exporter": "python",
   "pygments_lexer": "ipython3",
   "version": "3.8.13"
  }
 },
 "nbformat": 4,
 "nbformat_minor": 5
}
